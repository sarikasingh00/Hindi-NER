{
 "cells": [
  {
   "cell_type": "markdown",
   "id": "stable-navigator",
   "metadata": {},
   "source": [
    "https://www.depends-on-the-definition.com/named-entity-recognition-with-residual-lstm-and-elmo/"
   ]
  },
  {
   "cell_type": "code",
   "execution_count": 1,
   "id": "apparent-banner",
   "metadata": {},
   "outputs": [],
   "source": [
    "import numpy as np\n",
    "import os\n",
    "import pandas as pd\n",
    "import re"
   ]
  },
  {
   "cell_type": "code",
   "execution_count": 2,
   "id": "cleared-sword",
   "metadata": {},
   "outputs": [],
   "source": [
    "data_dir = r'Data/'"
   ]
  },
  {
   "cell_type": "code",
   "execution_count": 3,
   "id": "bottom-farmer",
   "metadata": {},
   "outputs": [
    {
     "data": {
      "text/plain": [
       "array([['अरे', 'O'],\n",
       "       ['सारथी', 'O'],\n",
       "       ['जम्मू', 'U-location'],\n",
       "       ...,\n",
       "       ['क्या', 'O'],\n",
       "       ['है', 'O'],\n",
       "       ['?', 'O']], dtype='<U14')"
      ]
     },
     "execution_count": 3,
     "metadata": {},
     "output_type": "execute_result"
    }
   ],
   "source": [
    "file = np.loadtxt(fname=data_dir+'nertrnweather.txt',encoding='utf-8',dtype=str)\n",
    "file"
   ]
  },
  {
   "cell_type": "code",
   "execution_count": 4,
   "id": "unsigned-operation",
   "metadata": {},
   "outputs": [],
   "source": [
    "df = pd.DataFrame(columns=['Sentence #','Word','Tag'])"
   ]
  },
  {
   "cell_type": "code",
   "execution_count": 5,
   "id": "helpful-tomato",
   "metadata": {},
   "outputs": [
    {
     "data": {
      "text/html": [
       "<div>\n",
       "<style scoped>\n",
       "    .dataframe tbody tr th:only-of-type {\n",
       "        vertical-align: middle;\n",
       "    }\n",
       "\n",
       "    .dataframe tbody tr th {\n",
       "        vertical-align: top;\n",
       "    }\n",
       "\n",
       "    .dataframe thead th {\n",
       "        text-align: right;\n",
       "    }\n",
       "</style>\n",
       "<table border=\"1\" class=\"dataframe\">\n",
       "  <thead>\n",
       "    <tr style=\"text-align: right;\">\n",
       "      <th></th>\n",
       "      <th>Sentence #</th>\n",
       "      <th>Word</th>\n",
       "      <th>Tag</th>\n",
       "    </tr>\n",
       "  </thead>\n",
       "  <tbody>\n",
       "    <tr>\n",
       "      <th>0</th>\n",
       "      <td>Sentence 1</td>\n",
       "      <td>अरे</td>\n",
       "      <td>O</td>\n",
       "    </tr>\n",
       "    <tr>\n",
       "      <th>1</th>\n",
       "      <td>Sentence 1</td>\n",
       "      <td>सारथी</td>\n",
       "      <td>O</td>\n",
       "    </tr>\n",
       "    <tr>\n",
       "      <th>2</th>\n",
       "      <td>Sentence 1</td>\n",
       "      <td>जम्मू</td>\n",
       "      <td>U-location</td>\n",
       "    </tr>\n",
       "    <tr>\n",
       "      <th>3</th>\n",
       "      <td>Sentence 1</td>\n",
       "      <td>कैसा</td>\n",
       "      <td>O</td>\n",
       "    </tr>\n",
       "    <tr>\n",
       "      <th>4</th>\n",
       "      <td>Sentence 1</td>\n",
       "      <td>मौसम</td>\n",
       "      <td>O</td>\n",
       "    </tr>\n",
       "    <tr>\n",
       "      <th>...</th>\n",
       "      <td>...</td>\n",
       "      <td>...</td>\n",
       "      <td>...</td>\n",
       "    </tr>\n",
       "    <tr>\n",
       "      <th>1403</th>\n",
       "      <td>Sentence 203</td>\n",
       "      <td>की</td>\n",
       "      <td>O</td>\n",
       "    </tr>\n",
       "    <tr>\n",
       "      <th>1404</th>\n",
       "      <td>Sentence 203</td>\n",
       "      <td>स्थिति</td>\n",
       "      <td>O</td>\n",
       "    </tr>\n",
       "    <tr>\n",
       "      <th>1405</th>\n",
       "      <td>Sentence 203</td>\n",
       "      <td>क्या</td>\n",
       "      <td>O</td>\n",
       "    </tr>\n",
       "    <tr>\n",
       "      <th>1406</th>\n",
       "      <td>Sentence 203</td>\n",
       "      <td>है</td>\n",
       "      <td>O</td>\n",
       "    </tr>\n",
       "    <tr>\n",
       "      <th>1407</th>\n",
       "      <td>Sentence 203</td>\n",
       "      <td>?</td>\n",
       "      <td>O</td>\n",
       "    </tr>\n",
       "  </tbody>\n",
       "</table>\n",
       "<p>1408 rows × 3 columns</p>\n",
       "</div>"
      ],
      "text/plain": [
       "        Sentence #    Word         Tag\n",
       "0       Sentence 1     अरे           O\n",
       "1       Sentence 1   सारथी           O\n",
       "2       Sentence 1   जम्मू  U-location\n",
       "3       Sentence 1    कैसा           O\n",
       "4       Sentence 1    मौसम           O\n",
       "...            ...     ...         ...\n",
       "1403  Sentence 203      की           O\n",
       "1404  Sentence 203  स्थिति           O\n",
       "1405  Sentence 203    क्या           O\n",
       "1406  Sentence 203      है           O\n",
       "1407  Sentence 203       ?           O\n",
       "\n",
       "[1408 rows x 3 columns]"
      ]
     },
     "execution_count": 5,
     "metadata": {},
     "output_type": "execute_result"
    }
   ],
   "source": [
    "i=1\n",
    "data = list()\n",
    "with open(data_dir+'nertrnweather.txt',encoding='utf-8') as f:\n",
    "    for line in f.readlines():\n",
    "        if line=='\\n':\n",
    "            i+=1\n",
    "        else:\n",
    "            data=line.split(\" \")\n",
    "            df=df.append({\"Sentence #\":f\"Sentence {i}\",\"Word\":data[0],\"Tag\":re.sub(\"\\n\",\"\",data[1])},ignore_index=True)\n",
    "df"
   ]
  },
  {
   "cell_type": "code",
   "execution_count": 6,
   "id": "norwegian-familiar",
   "metadata": {},
   "outputs": [
    {
     "data": {
      "text/plain": [
       "282"
      ]
     },
     "execution_count": 6,
     "metadata": {},
     "output_type": "execute_result"
    }
   ],
   "source": [
    "words = list(set(df[\"Word\"].values))\n",
    "words.append(\"ENDPAD\")\n",
    "n_words = len(words); n_words"
   ]
  },
  {
   "cell_type": "code",
   "execution_count": 7,
   "id": "double-reply",
   "metadata": {},
   "outputs": [
    {
     "data": {
      "text/plain": [
       "10"
      ]
     },
     "execution_count": 7,
     "metadata": {},
     "output_type": "execute_result"
    }
   ],
   "source": [
    "tags = list(set(df[\"Tag\"].values))\n",
    "n_tags = len(tags); n_tags"
   ]
  },
  {
   "cell_type": "code",
   "execution_count": 8,
   "id": "champion-great",
   "metadata": {},
   "outputs": [],
   "source": [
    "class SentenceGetter(object):\n",
    "    \n",
    "    def __init__(self, data):\n",
    "        self.n_sent = 1\n",
    "        self.data = data\n",
    "        self.empty = False\n",
    "        agg_func = lambda s: [(w, t) for w, t in zip(s[\"Word\"].values.tolist(),\n",
    "                                                           s[\"Tag\"].values.tolist())]\n",
    "        self.grouped = self.data.groupby(\"Sentence #\").apply(agg_func)\n",
    "        self.sentences = [s for s in self.grouped]\n",
    "    \n",
    "    def get_next(self):\n",
    "        try:\n",
    "            s = self.grouped[\"Sentence {}\".format(self.n_sent)]\n",
    "            self.n_sent += 1\n",
    "            return s\n",
    "        except Exception as e:\n",
    "            print(e)\n",
    "            return None"
   ]
  },
  {
   "cell_type": "code",
   "execution_count": 9,
   "id": "german-pierre",
   "metadata": {},
   "outputs": [],
   "source": [
    "getter = SentenceGetter(df)"
   ]
  },
  {
   "cell_type": "code",
   "execution_count": 10,
   "id": "express-reaction",
   "metadata": {},
   "outputs": [
    {
     "name": "stdout",
     "output_type": "stream",
     "text": [
      "[('अरे', 'O'), ('सारथी', 'O'), ('जम्मू', 'U-location'), ('कैसा', 'O'), ('मौसम', 'O'), ('है', 'O')]\n"
     ]
    }
   ],
   "source": [
    "sent = getter.get_next()\n",
    "print(sent)"
   ]
  },
  {
   "cell_type": "code",
   "execution_count": 11,
   "id": "possible-lincoln",
   "metadata": {},
   "outputs": [],
   "source": [
    "sentences = getter.sentences"
   ]
  },
  {
   "cell_type": "code",
   "execution_count": 12,
   "id": "headed-nutrition",
   "metadata": {},
   "outputs": [],
   "source": [
    "max_len = 16\n",
    "tag2idx = {t: i for i, t in enumerate(tags)}"
   ]
  },
  {
   "cell_type": "code",
   "execution_count": 13,
   "id": "american-armstrong",
   "metadata": {},
   "outputs": [
    {
     "data": {
      "text/plain": [
       "3"
      ]
     },
     "execution_count": 13,
     "metadata": {},
     "output_type": "execute_result"
    }
   ],
   "source": [
    "tag2idx[\"U-location\"]"
   ]
  },
  {
   "cell_type": "code",
   "execution_count": 14,
   "id": "funded-amsterdam",
   "metadata": {},
   "outputs": [],
   "source": [
    "X = [[w[0] for w in s] for s in sentences]"
   ]
  },
  {
   "cell_type": "code",
   "execution_count": 15,
   "id": "aerial-convergence",
   "metadata": {},
   "outputs": [],
   "source": [
    "new_X = []\n",
    "for seq in X:\n",
    "    new_seq = []\n",
    "    for i in range(max_len):\n",
    "        try:\n",
    "            new_seq.append(seq[i])\n",
    "        except:\n",
    "            new_seq.append(\"__PAD__\")\n",
    "    new_X.append(new_seq)\n",
    "X = new_X"
   ]
  },
  {
   "cell_type": "code",
   "execution_count": 16,
   "id": "floppy-sharing",
   "metadata": {},
   "outputs": [
    {
     "name": "stdout",
     "output_type": "stream",
     "text": [
      "['मुंबई', 'में', 'मौसम', 'की', 'स्थिति', 'क्या', 'है', '__PAD__', '__PAD__', '__PAD__', '__PAD__', '__PAD__', '__PAD__', '__PAD__', '__PAD__', '__PAD__']\n"
     ]
    }
   ],
   "source": [
    "print(X[1])"
   ]
  },
  {
   "cell_type": "code",
   "execution_count": 17,
   "id": "discrete-donna",
   "metadata": {},
   "outputs": [],
   "source": [
    "y = [[tag2idx[w[1]] for w in s] for s in sentences]"
   ]
  },
  {
   "cell_type": "code",
   "execution_count": 18,
   "id": "adopted-morris",
   "metadata": {},
   "outputs": [],
   "source": [
    "from keras.preprocessing.sequence import pad_sequences\n",
    "y = pad_sequences(maxlen=max_len, sequences=y, padding=\"post\", value=tag2idx[\"O\"])"
   ]
  },
  {
   "cell_type": "code",
   "execution_count": 19,
   "id": "going-identification",
   "metadata": {},
   "outputs": [
    {
     "data": {
      "text/plain": [
       "array([3, 4, 4, 4, 4, 4, 4, 4, 4, 4, 4, 4, 4, 4, 4, 4])"
      ]
     },
     "execution_count": 19,
     "metadata": {},
     "output_type": "execute_result"
    }
   ],
   "source": [
    "y[1]"
   ]
  },
  {
   "cell_type": "code",
   "execution_count": 20,
   "id": "individual-number",
   "metadata": {},
   "outputs": [],
   "source": [
    "from sklearn.model_selection import train_test_split"
   ]
  },
  {
   "cell_type": "code",
   "execution_count": 21,
   "id": "white-ceramic",
   "metadata": {},
   "outputs": [],
   "source": [
    "X_tr, X_te, y_tr, y_te = train_test_split(X, y, test_size=0.14, random_state=2018)"
   ]
  },
  {
   "cell_type": "code",
   "execution_count": 22,
   "id": "pursuant-employee",
   "metadata": {},
   "outputs": [],
   "source": [
    "batch_size = 29"
   ]
  },
  {
   "cell_type": "code",
   "execution_count": 23,
   "id": "furnished-address",
   "metadata": {},
   "outputs": [],
   "source": [
    "# import tensorflow as tf\n",
    "import tensorflow.compat.v1 as tf\n",
    "import tensorflow_hub as hub\n",
    "from keras import backend as K\n",
    "# import keras.backend.tensorflow_backend as K"
   ]
  },
  {
   "cell_type": "code",
   "execution_count": 24,
   "id": "imperial-peace",
   "metadata": {},
   "outputs": [],
   "source": [
    "sess = tf.Session()\n",
    "# K.set_session(sess)\n",
    "tf.compat.v1.keras.backend.set_session(sess);"
   ]
  },
  {
   "cell_type": "code",
   "execution_count": 25,
   "id": "afraid-commercial",
   "metadata": {},
   "outputs": [],
   "source": [
    "tf.disable_eager_execution()"
   ]
  },
  {
   "cell_type": "code",
   "execution_count": 26,
   "id": "twenty-belgium",
   "metadata": {},
   "outputs": [],
   "source": [
    "elmo_model = hub.Module(\"https://tfhub.dev/google/elmo/2\", trainable=True)\n",
    "# elmo_model = hub.load(\"https://tfhub.dev/google/elmo/2\")\n",
    "sess.run(tf.global_variables_initializer())\n",
    "sess.run(tf.tables_initializer())"
   ]
  },
  {
   "cell_type": "code",
   "execution_count": 27,
   "id": "owned-chart",
   "metadata": {},
   "outputs": [
    {
     "name": "stdout",
     "output_type": "stream",
     "text": [
      "INFO:tensorflow:Saver not created because there are no variables in the graph to restore\n"
     ]
    },
    {
     "name": "stderr",
     "output_type": "stream",
     "text": [
      "INFO:tensorflow:Saver not created because there are no variables in the graph to restore\n"
     ]
    },
    {
     "data": {
      "text/plain": [
       "<tf.Tensor 'module_apply_tokens/aggregation/mul_3:0' shape=(1, 6, 1024) dtype=float32>"
      ]
     },
     "execution_count": 27,
     "metadata": {},
     "output_type": "execute_result"
    }
   ],
   "source": [
    "tokens_input = [[\"the\", \"cat\", \"is\", \"on\", \"the\", \"mat\"]]\n",
    "tokens_length = [6]\n",
    "elmo_model(\n",
    "    inputs={\n",
    "        \"tokens\": tokens_input,\n",
    "        \"sequence_len\": tokens_length\n",
    "    },\n",
    "    signature=\"tokens\",\n",
    "    as_dict=True)[\"elmo\"]"
   ]
  },
  {
   "cell_type": "code",
   "execution_count": 28,
   "id": "arctic-sister",
   "metadata": {},
   "outputs": [],
   "source": [
    "def ElmoEmbedding(x):\n",
    "    return elmo_model(inputs={\n",
    "                            \"tokens\": tf.squeeze(tf.cast(x, tf.string)),\n",
    "                            \"sequence_len\": tf.constant(batch_size*[max_len])\n",
    "                      },\n",
    "                      signature=\"tokens\",\n",
    "                      as_dict=True)[\"elmo\"]\n",
    "#     print(x,max_len)\n",
    "\n",
    "#     return elmo_model.signatures[\"tokens\"]({\n",
    "#                             \"tokens\": tf.squeeze(tf.cast(x, tf.string)),\n",
    "#                             \"sequence_len\": tf.constant(batch_size*[max_len])\n",
    "#                       },\n",
    "#                       as_dict=True)[\"elmo\"]\n"
   ]
  },
  {
   "cell_type": "code",
   "execution_count": 29,
   "id": "outstanding-dryer",
   "metadata": {},
   "outputs": [],
   "source": [
    "from keras.models import Model, Input\n",
    "from keras.layers.merge import add\n",
    "from keras.layers import LSTM, Embedding, Dense, TimeDistributed, Dropout, Bidirectional, Lambda"
   ]
  },
  {
   "cell_type": "code",
   "execution_count": 30,
   "id": "academic-pierce",
   "metadata": {},
   "outputs": [
    {
     "name": "stdout",
     "output_type": "stream",
     "text": [
      "INFO:tensorflow:Saver not created because there are no variables in the graph to restore\n"
     ]
    },
    {
     "name": "stderr",
     "output_type": "stream",
     "text": [
      "INFO:tensorflow:Saver not created because there are no variables in the graph to restore\n"
     ]
    },
    {
     "name": "stdout",
     "output_type": "stream",
     "text": [
      "Tensor(\"lambda/module_apply_tokens/aggregation/mul_3:0\", shape=(29, None, 1024), dtype=float32)\n"
     ]
    }
   ],
   "source": [
    "input_text = Input(shape=(max_len,), dtype=tf.string)\n",
    "embedding = Lambda(ElmoEmbedding, output_shape=(None, 1024))(input_text)\n",
    "print(embedding)\n",
    "x = Bidirectional(LSTM(units=512, return_sequences=True,\n",
    "                       recurrent_dropout=0.2, dropout=0.2))(embedding)\n",
    "x_rnn = Bidirectional(LSTM(units=512, return_sequences=True,\n",
    "                           recurrent_dropout=0.2, dropout=0.2))(x)\n",
    "x = add([x, x_rnn])  # residual connection to the first biLSTM\n",
    "out = TimeDistributed(Dense(n_tags, activation=\"softmax\"))(x)"
   ]
  },
  {
   "cell_type": "code",
   "execution_count": 31,
   "id": "external-spare",
   "metadata": {},
   "outputs": [],
   "source": [
    "model = Model(input_text, out)"
   ]
  },
  {
   "cell_type": "code",
   "execution_count": 32,
   "id": "latin-salon",
   "metadata": {},
   "outputs": [],
   "source": [
    "model.compile(optimizer=\"adam\", loss=\"sparse_categorical_crossentropy\", metrics=[\"accuracy\"])"
   ]
  },
  {
   "cell_type": "code",
   "execution_count": 33,
   "id": "sunset-shirt",
   "metadata": {},
   "outputs": [],
   "source": [
    "# X_tr, X_val = X_tr[:1213*batch_size], X_tr[-135*batch_size:]\n",
    "# y_tr, y_val = y_tr[:1213*batch_size], y_tr[-135*batch_size:]\n",
    "# X_tr = X_tr.reshape(X_tr.shape[0], X_tr.shape[1], 1)\n",
    "# X_val = X_val.reshape(X_val.shape[0], X_val.shape[1], 1)\n",
    "y_tr = y_tr.reshape(y_tr.shape[0], y_tr.shape[1], 1)\n",
    "# y_val = y_val.reshape(y_val.shape[0], y_val.shape[1], 1)\n",
    "y_te = y_te.reshape(y_te.shape[0], y_te.shape[1], 1)"
   ]
  },
  {
   "cell_type": "code",
   "execution_count": 34,
   "id": "coral-defendant",
   "metadata": {},
   "outputs": [
    {
     "name": "stdout",
     "output_type": "stream",
     "text": [
      "(29, 16)\n",
      "(174, 16)\n"
     ]
    }
   ],
   "source": [
    "print(np.array(X_te).shape)\n",
    "print(np.array(X_tr).shape)"
   ]
  },
  {
   "cell_type": "code",
   "execution_count": 35,
   "id": "funded-exposure",
   "metadata": {},
   "outputs": [
    {
     "name": "stdout",
     "output_type": "stream",
     "text": [
      "Train on 174 samples, validate on 29 samples\n",
      "Epoch 1/5\n",
      "174/174 [==============================] - ETA: 0s - loss: 1.5768 - accuracy: 0.6832"
     ]
    },
    {
     "name": "stderr",
     "output_type": "stream",
     "text": [
      "D:\\Sarika\\NER\\venv\\lib\\site-packages\\tensorflow\\python\\keras\\engine\\training.py:2325: UserWarning: `Model.state_updates` will be removed in a future version. This property should not be used in TensorFlow 2.0, as `updates` are applied automatically.\n",
      "  warnings.warn('`Model.state_updates` will be removed in a future version. '\n"
     ]
    },
    {
     "name": "stdout",
     "output_type": "stream",
     "text": [
      "174/174 [==============================] - 36s 205ms/sample - loss: 1.5768 - accuracy: 0.6832 - val_loss: 0.6796 - val_accuracy: 0.6767\n",
      "Epoch 2/5\n",
      "174/174 [==============================] - 29s 168ms/sample - loss: 0.5876 - accuracy: 0.8276 - val_loss: 0.4351 - val_accuracy: 0.8750\n",
      "Epoch 3/5\n",
      "174/174 [==============================] - 27s 155ms/sample - loss: 0.3938 - accuracy: 0.8861 - val_loss: 0.3379 - val_accuracy: 0.9009\n",
      "Epoch 4/5\n",
      "174/174 [==============================] - 29s 167ms/sample - loss: 0.3230 - accuracy: 0.9023 - val_loss: 0.2796 - val_accuracy: 0.8793\n",
      "Epoch 5/5\n",
      "174/174 [==============================] - 29s 167ms/sample - loss: 0.2878 - accuracy: 0.8969 - val_loss: 0.2280 - val_accuracy: 0.9310\n"
     ]
    }
   ],
   "source": [
    "history = model.fit(np.array(X_tr), y_tr, validation_data=(np.array(X_te), y_te),\n",
    "                    batch_size=batch_size, epochs=5, verbose=1)"
   ]
  },
  {
   "cell_type": "code",
   "execution_count": 59,
   "id": "equal-mileage",
   "metadata": {},
   "outputs": [],
   "source": [
    "hist = pd.DataFrame(history.history)"
   ]
  },
  {
   "cell_type": "code",
   "execution_count": 60,
   "id": "endless-brighton",
   "metadata": {},
   "outputs": [
    {
     "name": "stderr",
     "output_type": "stream",
     "text": [
      "WARNING:matplotlib.legend:No handles with labels found to put in legend.\n"
     ]
    },
    {
     "data": {
      "image/png": "[encoded data removed]",
      "text/plain": [
       "<Figure size 864x864 with 1 Axes>"
      ]
     },
     "metadata": {
      "needs_background": "light"
     },
     "output_type": "display_data"
    }
   ],
   "source": [
    "import matplotlib.pyplot as plt\n",
    "\n",
    "plt.figure(figsize=(12,12))\n",
    "plt.plot(hist[\"accuracy\"])\n",
    "plt.plot(hist[\"val_accuracy\"])\n",
    "plt.title(\"Learning curves\")\n",
    "plt.legend()\n",
    "plt.show()"
   ]
  },
  {
   "cell_type": "code",
   "execution_count": 61,
   "id": "generic-graduation",
   "metadata": {},
   "outputs": [],
   "source": [
    "i = 0\n",
    "p = model.predict(np.array(X_te[i:i+batch_size]))\n",
    "p = np.argmax(p, axis=-1)\n",
    "# print(\"{} {}: ({})\".format(\"Word\", \"Pred\", \"True\"))\n",
    "# print(\"=\"*30)\n",
    "# for w, true, pred in zip(X_te[i], y_te[i], p):\n",
    "#     if w != \"__PAD__\":\n",
    "#         print(\"{:15}:{:5} ({})\".format(w, tags[pred], tags[true]))"
   ]
  },
  {
   "cell_type": "code",
   "execution_count": 62,
   "id": "decimal-fleet",
   "metadata": {},
   "outputs": [
    {
     "data": {
      "text/plain": [
       "array([[3, 4, 4, 4, 4, 4, 4, 4, 4, 4, 4, 4, 4, 4, 4, 4],\n",
       "       [4, 4, 4, 4, 4, 4, 3, 4, 4, 4, 4, 4, 4, 4, 4, 4],\n",
       "       [9, 5, 4, 4, 4, 4, 4, 4, 4, 4, 4, 4, 4, 4, 4, 4],\n",
       "       [3, 4, 4, 4, 3, 4, 4, 4, 4, 4, 4, 4, 4, 4, 4, 4],\n",
       "       [3, 4, 4, 5, 4, 4, 4, 4, 4, 4, 4, 4, 4, 4, 4, 4],\n",
       "       [4, 4, 4, 4, 4, 4, 4, 4, 4, 4, 4, 4, 4, 4, 4, 4],\n",
       "       [9, 3, 4, 3, 4, 4, 4, 4, 4, 4, 4, 4, 4, 4, 4, 4],\n",
       "       [4, 4, 5, 4, 4, 4, 4, 4, 4, 4, 4, 4, 4, 4, 4, 4],\n",
       "       [4, 4, 5, 4, 4, 4, 4, 4, 4, 4, 4, 4, 4, 4, 4, 4],\n",
       "       [3, 4, 4, 4, 4, 4, 4, 4, 4, 4, 4, 4, 4, 4, 4, 4],\n",
       "       [9, 4, 4, 4, 4, 4, 4, 4, 4, 4, 4, 4, 4, 4, 4, 4],\n",
       "       [9, 4, 4, 4, 4, 4, 4, 4, 4, 4, 4, 4, 4, 4, 4, 4],\n",
       "       [4, 1, 4, 4, 5, 4, 4, 4, 4, 4, 4, 4, 4, 4, 4, 4],\n",
       "       [3, 5, 4, 4, 4, 4, 4, 4, 4, 4, 4, 4, 4, 4, 4, 4],\n",
       "       [4, 5, 4, 4, 4, 4, 4, 4, 4, 4, 4, 4, 4, 4, 4, 4],\n",
       "       [3, 4, 4, 3, 4, 4, 4, 4, 4, 4, 4, 4, 4, 4, 4, 4],\n",
       "       [4, 4, 5, 4, 4, 4, 4, 4, 4, 4, 4, 4, 4, 4, 4, 4],\n",
       "       [4, 9, 4, 5, 4, 3, 4, 9, 4, 4, 4, 4, 4, 4, 4, 4],\n",
       "       [3, 4, 4, 4, 4, 4, 4, 4, 4, 4, 4, 4, 4, 4, 4, 4],\n",
       "       [4, 3, 4, 5, 4, 3, 4, 4, 4, 4, 4, 4, 4, 4, 4, 4],\n",
       "       [4, 4, 4, 5, 4, 4, 4, 4, 4, 4, 4, 4, 4, 4, 4, 4],\n",
       "       [3, 4, 4, 4, 3, 4, 4, 4, 4, 4, 4, 4, 4, 4, 4, 4],\n",
       "       [4, 4, 4, 5, 4, 4, 4, 4, 4, 4, 4, 4, 4, 4, 4, 4],\n",
       "       [4, 9, 4, 4, 5, 4, 9, 4, 4, 4, 4, 4, 4, 4, 4, 4],\n",
       "       [4, 3, 4, 4, 4, 4, 4, 5, 4, 4, 4, 4, 4, 4, 4, 4],\n",
       "       [4, 4, 5, 4, 3, 4, 4, 4, 4, 4, 4, 4, 4, 4, 4, 4],\n",
       "       [3, 4, 5, 4, 4, 4, 4, 4, 4, 4, 4, 4, 4, 4, 4, 4],\n",
       "       [4, 4, 4, 4, 4, 4, 4, 4, 4, 4, 4, 4, 4, 4, 4, 4],\n",
       "       [3, 4, 4, 4, 9, 4, 5, 4, 4, 4, 4, 4, 4, 4, 4, 4]], dtype=int64)"
      ]
     },
     "execution_count": 62,
     "metadata": {},
     "output_type": "execute_result"
    }
   ],
   "source": [
    "p"
   ]
  },
  {
   "cell_type": "code",
   "execution_count": 63,
   "id": "desirable-sunglasses",
   "metadata": {},
   "outputs": [
    {
     "name": "stdout",
     "output_type": "stream",
     "text": [
      "Word Pred: (True)\n",
      "==============================\n",
      "Sentence  1\n",
      "सिडनी:U-location (U-location)\n",
      "Sentence  2\n",
      "मनाली:U-location (U-location)\n",
      "Sentence  3\n",
      "आज:U-date (U-date)\n",
      "गर्मी:U-weather_type (U-weather_type)\n",
      "Sentence  4\n",
      "बेंगलोरे:U-location (U-location)\n",
      "Sentence  5\n",
      "जौनपुर:U-location (U-location)\n",
      "गर्म:U-weather_type (U-weather_type)\n",
      "Sentence  6\n",
      "Sentence  7\n",
      "आज:U-date (U-date)\n",
      "Sentence  8\n",
      "गर्मी:U-weather_type (U-weather_type)\n",
      "Sentence  9\n",
      "बारिश:U-weather_type (U-weather_type)\n",
      "Sentence  10\n",
      "Sentence  11\n",
      "आज:U-date (U-date)\n",
      "Sentence  12\n",
      "आज:U-date (U-date)\n",
      "Sentence  13\n",
      "इस:B-date (B-date)\n",
      "गर्मी:U-weather_type (U-weather_type)\n",
      "Sentence  14\n",
      "बर्फ:U-weather_type (U-weather_type)\n",
      "Sentence  15\n",
      "बारिश:U-weather_type (U-weather_type)\n",
      "Sentence  16\n",
      "जम्मू:U-location (U-location)\n",
      "Sentence  17\n",
      "गर्मी:U-weather_type (U-weather_type)\n",
      "Sentence  18\n",
      "कल:U-date (U-date)\n",
      "गर्म:U-weather_type (U-weather_type)\n",
      "दिल्ली:U-location (U-location)\n",
      "Sentence  19\n",
      "कसोल:U-location (U-location)\n",
      "Sentence  20\n",
      "मुंबई:U-location (U-location)\n",
      "गर्म:U-weather_type (U-weather_type)\n",
      "कोलकाता:U-location (U-location)\n",
      "Sentence  21\n",
      "बारिश:U-weather_type (U-weather_type)\n",
      "Sentence  22\n",
      "हमीरपुर:U-location (U-location)\n",
      "नागपुर:U-location (U-location)\n",
      "Sentence  23\n",
      "बारिश:U-weather_type (U-weather_type)\n",
      "Sentence  24\n",
      "कल:U-date (U-date)\n",
      "बारिश:U-weather_type (U-weather_type)\n",
      "आज:U-date (U-date)\n",
      "Sentence  25\n",
      "Sentence  26\n",
      "बारिश:U-weather_type (U-weather_type)\n",
      "दिल्ली:U-location (U-location)\n",
      "Sentence  27\n",
      "बर्फ:U-weather_type (U-weather_type)\n",
      "Sentence  28\n",
      "Sentence  29\n",
      "मुंबई:U-location (U-location)\n",
      "आज:U-date (U-date)\n",
      "गर्म:U-weather_type (U-weather_type)\n"
     ]
    }
   ],
   "source": [
    "print(\"{} {}: ({})\".format(\"Word\", \"Pred\", \"True\"))\n",
    "print(\"=\"*30)\n",
    "c = 1\n",
    "for X_te1, y_te1,p1 in zip(X_te,y_te.tolist(),p):\n",
    "    print(\"Sentence \", c)\n",
    "    c+=1\n",
    "    for w, true, pred in zip(X_te1, y_te1, p1):\n",
    "        if w != \"__PAD__\" and tags[pred] == tags[true[0]] and tags[true[0]]!='O':\n",
    "            print(\"{}:{} ({})\".format(w, tags[pred], tags[true[0]]))"
   ]
  },
  {
   "cell_type": "markdown",
   "id": "immediate-flooring",
   "metadata": {},
   "source": [
    "## On nervalweather.txt"
   ]
  },
  {
   "cell_type": "code",
   "execution_count": 64,
   "id": "fuzzy-edinburgh",
   "metadata": {},
   "outputs": [
    {
     "data": {
      "text/plain": [
       "array([['आज', 'U-date'],\n",
       "       ['मौसम', 'O'],\n",
       "       ['कैसा', 'O'],\n",
       "       ['है', 'O'],\n",
       "       ['क्या', 'O'],\n",
       "       ['हरिद्वार', 'U-location'],\n",
       "       ['में', 'O'],\n",
       "       ['बहुत', 'O'],\n",
       "       ['ठंड', 'U-weather_type'],\n",
       "       ['है', 'O'],\n",
       "       ['अभी', 'U-date'],\n",
       "       ['आज', 'U-date'],\n",
       "       ['इतनी', 'O'],\n",
       "       ['गर्मी', 'U-weather_type'],\n",
       "       ['क्यों', 'O'],\n",
       "       ['है', 'O'],\n",
       "       ['क्या', 'O'],\n",
       "       ['मुंबई', 'U-location'],\n",
       "       ['में', 'O'],\n",
       "       ['ठंडी', 'U-weather_type'],\n",
       "       ['है', 'O'],\n",
       "       ['क्या', 'O'],\n",
       "       ['पाली', 'U-location'],\n",
       "       ['में', 'O'],\n",
       "       ['सर्दी', 'U-weather_type'],\n",
       "       ['आ', 'O'],\n",
       "       ['गयी', 'O'],\n",
       "       ['क्या', 'O'],\n",
       "       ['आज', 'U-date'],\n",
       "       ['बारिश', 'U-weather_type'],\n",
       "       ['हो', 'O'],\n",
       "       ['सकती', 'O'],\n",
       "       ['है', 'O'],\n",
       "       ['किदर', 'O'],\n",
       "       ['सबसे', 'O'],\n",
       "       ['ज्यादा', 'O'],\n",
       "       ['बारिश', 'U-weather_type'],\n",
       "       ['होती', 'O'],\n",
       "       ['है', 'O'],\n",
       "       ['मुंबई', 'U-location'],\n",
       "       ['में', 'O'],\n",
       "       ['गर्मी', 'U-weather_type'],\n",
       "       ['ज्यादा', 'O'],\n",
       "       ['है', 'O'],\n",
       "       ['क्या', 'O'],\n",
       "       ['सूरत', 'U-location'],\n",
       "       ['से', 'O'],\n",
       "       ['मौसम', 'O'],\n",
       "       ['का', 'O'],\n",
       "       ['हाल', 'O'],\n",
       "       ['बताओ', 'O'],\n",
       "       ['आज', 'U-date'],\n",
       "       ['ज्यादा', 'O'],\n",
       "       ['ठंड', 'U-weather_type'],\n",
       "       ['है', 'O'],\n",
       "       ['क्या', 'O'],\n",
       "       ['मनाली', 'U-location'],\n",
       "       ['में', 'O'],\n",
       "       ['कितनी', 'O'],\n",
       "       ['ठंडी', 'U-weather_type'],\n",
       "       ['है', 'O'],\n",
       "       ['कोटा', 'U-location'],\n",
       "       ['ठंडा', 'U-weather_type'],\n",
       "       ['है', 'O'],\n",
       "       ['क्या', 'O'],\n",
       "       ['दिल्ली', 'U-location'],\n",
       "       ['से', 'O'],\n",
       "       ['कोटा', 'U-location'],\n",
       "       ['में', 'O'],\n",
       "       ['ज्यादा', 'O'],\n",
       "       ['ठंडी', 'U-weather_type'],\n",
       "       ['है', 'O'],\n",
       "       ['क्या', 'O'],\n",
       "       ['पठानकोट', 'U-location'],\n",
       "       ['और', 'O'],\n",
       "       ['दिल्ली', 'U-location'],\n",
       "       ['में', 'O'],\n",
       "       ['कहा', 'O'],\n",
       "       ['ज्यादा', 'O'],\n",
       "       ['गर्मी', 'U-weather_type'],\n",
       "       ['होगी', 'O'],\n",
       "       ['दुनिया', 'O'],\n",
       "       ['की', 'O'],\n",
       "       ['सबसे', 'O'],\n",
       "       ['नमी', 'U-weather_type'],\n",
       "       ['वाली', 'O'],\n",
       "       ['जगह', 'O'],\n",
       "       ['बनारस', 'U-location'],\n",
       "       ['और', 'O'],\n",
       "       ['गाजीपुर', 'U-location'],\n",
       "       ['में', 'O'],\n",
       "       ['कहां', 'O'],\n",
       "       ['ज्यादा', 'O'],\n",
       "       ['गर्मी', 'U-weather_type'],\n",
       "       ['पड़ेगा', 'O'],\n",
       "       ['बनारस', 'U-location'],\n",
       "       ['और', 'O'],\n",
       "       ['गाजीपुर', 'U-location'],\n",
       "       ['में', 'O'],\n",
       "       ['कहां', 'O'],\n",
       "       ['ज्यादा', 'O'],\n",
       "       ['ठंड', 'U-weather_type'],\n",
       "       ['पड़ेगा', 'O'],\n",
       "       ['बनारस', 'U-location'],\n",
       "       ['और', 'O'],\n",
       "       ['गाजीपुर', 'U-location'],\n",
       "       ['में', 'O'],\n",
       "       ['कहाँ', 'O'],\n",
       "       ['ज्यादा', 'O'],\n",
       "       ['जाड़ा', 'U-weather_type'],\n",
       "       ['पड़ेगा', 'O'],\n",
       "       ['इस', 'B-date'],\n",
       "       ['साल', 'L-date'],\n",
       "       ['जाड़ा', 'U-weather_type'],\n",
       "       ['पड़ेगा', 'O'],\n",
       "       ['की', 'O'],\n",
       "       ['नहीं', 'O'],\n",
       "       ['पठानकोट', 'U-location'],\n",
       "       ['और', 'O'],\n",
       "       ['दिल्ली', 'U-location'],\n",
       "       ['में', 'O'],\n",
       "       ['कहा', 'O'],\n",
       "       ['ज्यादा', 'O'],\n",
       "       ['गर्मी', 'U-weather_type'],\n",
       "       ['होगी', 'O'],\n",
       "       ['रेणुकूट', 'U-location'],\n",
       "       ['में', 'O'],\n",
       "       ['मौसम', 'O'],\n",
       "       ['कैसा', 'O'],\n",
       "       ['है', 'O']], dtype='<U14')"
      ]
     },
     "execution_count": 64,
     "metadata": {},
     "output_type": "execute_result"
    }
   ],
   "source": [
    "file = np.loadtxt(fname=data_dir+'nervalweather.txt',encoding='utf-8',dtype=str)\n",
    "file"
   ]
  },
  {
   "cell_type": "code",
   "execution_count": 65,
   "id": "geological-subscriber",
   "metadata": {},
   "outputs": [],
   "source": [
    "df = pd.DataFrame(columns=['Sentence #','Word','Tag'])"
   ]
  },
  {
   "cell_type": "code",
   "execution_count": 66,
   "id": "apart-jefferson",
   "metadata": {},
   "outputs": [
    {
     "data": {
      "text/html": [
       "<div>\n",
       "<style scoped>\n",
       "    .dataframe tbody tr th:only-of-type {\n",
       "        vertical-align: middle;\n",
       "    }\n",
       "\n",
       "    .dataframe tbody tr th {\n",
       "        vertical-align: top;\n",
       "    }\n",
       "\n",
       "    .dataframe thead th {\n",
       "        text-align: right;\n",
       "    }\n",
       "</style>\n",
       "<table border=\"1\" class=\"dataframe\">\n",
       "  <thead>\n",
       "    <tr style=\"text-align: right;\">\n",
       "      <th></th>\n",
       "      <th>Sentence #</th>\n",
       "      <th>Word</th>\n",
       "      <th>Tag</th>\n",
       "    </tr>\n",
       "  </thead>\n",
       "  <tbody>\n",
       "    <tr>\n",
       "      <th>0</th>\n",
       "      <td>Sentence 1</td>\n",
       "      <td>आज</td>\n",
       "      <td>U-date</td>\n",
       "    </tr>\n",
       "    <tr>\n",
       "      <th>1</th>\n",
       "      <td>Sentence 1</td>\n",
       "      <td>मौसम</td>\n",
       "      <td>O</td>\n",
       "    </tr>\n",
       "    <tr>\n",
       "      <th>2</th>\n",
       "      <td>Sentence 1</td>\n",
       "      <td>कैसा</td>\n",
       "      <td>O</td>\n",
       "    </tr>\n",
       "    <tr>\n",
       "      <th>3</th>\n",
       "      <td>Sentence 1</td>\n",
       "      <td>है</td>\n",
       "      <td>O</td>\n",
       "    </tr>\n",
       "    <tr>\n",
       "      <th>4</th>\n",
       "      <td>Sentence 2</td>\n",
       "      <td>क्या</td>\n",
       "      <td>O</td>\n",
       "    </tr>\n",
       "    <tr>\n",
       "      <th>...</th>\n",
       "      <td>...</td>\n",
       "      <td>...</td>\n",
       "      <td>...</td>\n",
       "    </tr>\n",
       "    <tr>\n",
       "      <th>125</th>\n",
       "      <td>Sentence 21</td>\n",
       "      <td>रेणुकूट</td>\n",
       "      <td>U-location</td>\n",
       "    </tr>\n",
       "    <tr>\n",
       "      <th>126</th>\n",
       "      <td>Sentence 21</td>\n",
       "      <td>में</td>\n",
       "      <td>O</td>\n",
       "    </tr>\n",
       "    <tr>\n",
       "      <th>127</th>\n",
       "      <td>Sentence 21</td>\n",
       "      <td>मौसम</td>\n",
       "      <td>O</td>\n",
       "    </tr>\n",
       "    <tr>\n",
       "      <th>128</th>\n",
       "      <td>Sentence 21</td>\n",
       "      <td>कैसा</td>\n",
       "      <td>O</td>\n",
       "    </tr>\n",
       "    <tr>\n",
       "      <th>129</th>\n",
       "      <td>Sentence 21</td>\n",
       "      <td>है</td>\n",
       "      <td>O</td>\n",
       "    </tr>\n",
       "  </tbody>\n",
       "</table>\n",
       "<p>130 rows × 3 columns</p>\n",
       "</div>"
      ],
      "text/plain": [
       "      Sentence #     Word         Tag\n",
       "0     Sentence 1       आज      U-date\n",
       "1     Sentence 1     मौसम           O\n",
       "2     Sentence 1     कैसा           O\n",
       "3     Sentence 1       है           O\n",
       "4     Sentence 2     क्या           O\n",
       "..           ...      ...         ...\n",
       "125  Sentence 21  रेणुकूट  U-location\n",
       "126  Sentence 21      में           O\n",
       "127  Sentence 21     मौसम           O\n",
       "128  Sentence 21     कैसा           O\n",
       "129  Sentence 21       है           O\n",
       "\n",
       "[130 rows x 3 columns]"
      ]
     },
     "execution_count": 66,
     "metadata": {},
     "output_type": "execute_result"
    }
   ],
   "source": [
    "i=1\n",
    "data = list()\n",
    "with open(data_dir+'nervalweather.txt',encoding='utf-8') as f:\n",
    "    for line in f.readlines():\n",
    "        if line=='\\n':\n",
    "            i+=1\n",
    "        else:\n",
    "            data=line.split(\" \")\n",
    "            df=df.append({\"Sentence #\":f\"Sentence {i}\",\"Word\":data[0],\"Tag\":re.sub(\"\\n\",\"\",data[1])},ignore_index=True)\n",
    "df"
   ]
  },
  {
   "cell_type": "code",
   "execution_count": 67,
   "id": "vulnerable-bookmark",
   "metadata": {},
   "outputs": [
    {
     "data": {
      "text/plain": [
       "57"
      ]
     },
     "execution_count": 67,
     "metadata": {},
     "output_type": "execute_result"
    }
   ],
   "source": [
    "words = list(set(df[\"Word\"].values))\n",
    "words.append(\"ENDPAD\")\n",
    "n_words = len(words); n_words"
   ]
  },
  {
   "cell_type": "code",
   "execution_count": 68,
   "id": "union-alarm",
   "metadata": {},
   "outputs": [],
   "source": [
    "# tags = list(set(df[\"Tag\"].values))\n",
    "# n_tags = len(tags); n_tags\n",
    "\n",
    "\n",
    "#use old tags, in netvalweather.txt, there are only 6 tags -> outofbounds error"
   ]
  },
  {
   "cell_type": "code",
   "execution_count": 69,
   "id": "actual-synthetic",
   "metadata": {},
   "outputs": [],
   "source": [
    "getter = SentenceGetter(df)"
   ]
  },
  {
   "cell_type": "code",
   "execution_count": 70,
   "id": "covered-liberty",
   "metadata": {},
   "outputs": [
    {
     "name": "stdout",
     "output_type": "stream",
     "text": [
      "[('आज', 'U-date'), ('मौसम', 'O'), ('कैसा', 'O'), ('है', 'O')]\n"
     ]
    }
   ],
   "source": [
    "sent = getter.get_next()\n",
    "print(sent)"
   ]
  },
  {
   "cell_type": "code",
   "execution_count": 71,
   "id": "printable-census",
   "metadata": {},
   "outputs": [],
   "source": [
    "sentences = getter.sentences"
   ]
  },
  {
   "cell_type": "code",
   "execution_count": 72,
   "id": "complete-beatles",
   "metadata": {},
   "outputs": [],
   "source": [
    "max_len = 16\n",
    "tag2idx = {t: i for i, t in enumerate(tags)}"
   ]
  },
  {
   "cell_type": "code",
   "execution_count": 73,
   "id": "nutritional-consortium",
   "metadata": {},
   "outputs": [],
   "source": [
    "X_test = [[w[0] for w in s] for s in sentences]"
   ]
  },
  {
   "cell_type": "code",
   "execution_count": 74,
   "id": "practical-execution",
   "metadata": {},
   "outputs": [],
   "source": [
    "new_X = []\n",
    "for seq in X_test:\n",
    "    new_seq = []\n",
    "    for i in range(max_len):\n",
    "        try:\n",
    "            new_seq.append(seq[i])\n",
    "        except:\n",
    "            new_seq.append(\"__PAD__\")\n",
    "    new_X.append(new_seq)\n",
    "X_test = new_X"
   ]
  },
  {
   "cell_type": "code",
   "execution_count": 75,
   "id": "fatty-service",
   "metadata": {},
   "outputs": [],
   "source": [
    "y_test = [[tag2idx[w[1]] for w in s] for s in sentences]"
   ]
  },
  {
   "cell_type": "code",
   "execution_count": 76,
   "id": "intense-reaction",
   "metadata": {},
   "outputs": [],
   "source": [
    "from keras.preprocessing.sequence import pad_sequences\n",
    "y_test = pad_sequences(maxlen=max_len, sequences=y, padding=\"post\", value=tag2idx[\"O\"])"
   ]
  },
  {
   "cell_type": "code",
   "execution_count": 77,
   "id": "active-disease",
   "metadata": {},
   "outputs": [
    {
     "name": "stdout",
     "output_type": "stream",
     "text": [
      "21\n",
      "29\n"
     ]
    }
   ],
   "source": [
    "print(len(X_test))\n",
    "X_test += X_test[0:8]\n",
    "print(len(X_test))\n",
    "\n",
    "#making size = batch_size"
   ]
  },
  {
   "cell_type": "code",
   "execution_count": 78,
   "id": "pacific-balloon",
   "metadata": {},
   "outputs": [],
   "source": [
    "i = 0\n",
    "\n",
    "p = model.predict(np.array(X_test))\n",
    "p = np.argmax(p, axis=-1)"
   ]
  },
  {
   "cell_type": "code",
   "execution_count": 79,
   "id": "mighty-cardiff",
   "metadata": {},
   "outputs": [
    {
     "data": {
      "text/plain": [
       "array([[9, 4, 4, 4, 4, 4, 4, 4, 4, 4, 4, 4, 4, 4, 4, 4],\n",
       "       [9, 4, 4, 4, 4, 4, 4, 4, 4, 4, 4, 4, 4, 4, 4, 4],\n",
       "       [3, 4, 4, 4, 4, 4, 4, 4, 4, 4, 4, 4, 4, 4, 4, 4],\n",
       "       [3, 4, 4, 4, 3, 4, 4, 4, 4, 4, 4, 4, 4, 4, 4, 4],\n",
       "       [3, 4, 4, 4, 4, 4, 4, 4, 4, 4, 4, 4, 4, 4, 4, 4],\n",
       "       [3, 4, 3, 4, 4, 4, 5, 4, 4, 4, 4, 4, 4, 4, 4, 4],\n",
       "       [3, 4, 4, 4, 4, 4, 4, 4, 4, 4, 4, 4, 4, 4, 4, 4],\n",
       "       [3, 4, 3, 4, 4, 4, 5, 4, 4, 4, 4, 4, 4, 4, 4, 4],\n",
       "       [3, 4, 3, 4, 4, 4, 4, 4, 4, 4, 4, 4, 4, 4, 4, 4],\n",
       "       [3, 4, 3, 4, 4, 4, 4, 4, 4, 4, 4, 4, 4, 4, 4, 4],\n",
       "       [1, 4, 4, 4, 4, 4, 4, 4, 4, 4, 4, 4, 4, 4, 4, 4],\n",
       "       [4, 3, 4, 4, 4, 4, 4, 4, 4, 4, 4, 4, 4, 4, 4, 4],\n",
       "       [3, 4, 3, 4, 4, 4, 5, 4, 4, 4, 4, 4, 4, 4, 4, 4],\n",
       "       [3, 4, 4, 4, 4, 4, 4, 4, 4, 4, 4, 4, 4, 4, 4, 4],\n",
       "       [9, 4, 5, 4, 4, 4, 4, 4, 4, 4, 4, 4, 4, 4, 4, 4],\n",
       "       [4, 3, 4, 4, 4, 4, 4, 4, 4, 4, 4, 4, 4, 4, 4, 4],\n",
       "       [4, 4, 4, 4, 4, 4, 4, 4, 4, 4, 4, 4, 4, 4, 4, 4],\n",
       "       [4, 9, 5, 4, 4, 4, 4, 4, 4, 4, 4, 4, 4, 4, 4, 4],\n",
       "       [3, 4, 4, 5, 4, 4, 4, 4, 4, 4, 4, 4, 4, 4, 4, 4],\n",
       "       [3, 4, 5, 4, 4, 4, 4, 4, 4, 4, 4, 4, 4, 4, 4, 4],\n",
       "       [4, 4, 4, 4, 4, 4, 4, 4, 4, 4, 4, 4, 4, 4, 4, 4],\n",
       "       [9, 4, 4, 4, 4, 4, 4, 4, 4, 4, 4, 4, 4, 4, 4, 4],\n",
       "       [9, 4, 4, 4, 4, 4, 4, 4, 4, 4, 4, 4, 4, 4, 4, 4],\n",
       "       [3, 4, 4, 4, 4, 4, 4, 4, 4, 4, 4, 4, 4, 4, 4, 4],\n",
       "       [3, 4, 4, 4, 3, 4, 4, 4, 4, 4, 4, 4, 4, 4, 4, 4],\n",
       "       [3, 4, 4, 4, 4, 4, 4, 4, 4, 4, 4, 4, 4, 4, 4, 4],\n",
       "       [3, 4, 3, 4, 4, 4, 5, 4, 4, 4, 4, 4, 4, 4, 4, 4],\n",
       "       [3, 4, 4, 4, 4, 4, 4, 4, 4, 4, 4, 4, 4, 4, 4, 4],\n",
       "       [3, 4, 3, 4, 4, 4, 5, 4, 4, 4, 4, 4, 4, 4, 4, 4]], dtype=int64)"
      ]
     },
     "execution_count": 79,
     "metadata": {},
     "output_type": "execute_result"
    }
   ],
   "source": [
    "p"
   ]
  },
  {
   "cell_type": "code",
   "execution_count": 80,
   "id": "turkish-spectacular",
   "metadata": {},
   "outputs": [
    {
     "name": "stdout",
     "output_type": "stream",
     "text": [
      "Word Pred: (True)\n",
      "==============================\n",
      "Sentence  1\n",
      "Sentence  2\n",
      "Sentence  3\n",
      "Sentence  4\n",
      "Sentence  5\n",
      "Sentence  6\n",
      "Sentence  7\n",
      "Sentence  8\n",
      "Sentence  9\n",
      "बनारस:U-location (U-location)\n",
      "Sentence  10\n",
      "बनारस:U-location (U-location)\n",
      "Sentence  11\n",
      "Sentence  12\n",
      "Sentence  13\n",
      "पठानकोट:U-location (U-location)\n",
      "Sentence  14\n",
      "Sentence  15\n",
      "Sentence  16\n",
      "मुंबई:U-location (U-location)\n",
      "Sentence  17\n",
      "Sentence  18\n",
      "Sentence  19\n",
      "Sentence  20\n",
      "Sentence  21\n",
      "Sentence  22\n",
      "Sentence  23\n",
      "Sentence  24\n",
      "मनाली:U-location (U-location)\n",
      "Sentence  25\n",
      "Sentence  26\n",
      "Sentence  27\n",
      "Sentence  28\n",
      "Sentence  29\n"
     ]
    }
   ],
   "source": [
    "print(\"{} {}: ({})\".format(\"Word\", \"Pred\", \"True\"))\n",
    "print(\"=\"*30)\n",
    "c = 1\n",
    "for X_te1, y_te1,p1 in zip(X_test,y_test,p):\n",
    "    print(\"Sentence \", c)\n",
    "    c+=1\n",
    "    for w, true, pred in zip(X_te1, y_te1, p1):\n",
    "        if w != \"__PAD__\" and tags[pred] == tags[true] and tags[true]!='O':\n",
    "            print(\"{}:{} ({})\".format(w, tags[pred], tags[true]))"
   ]
  },
  {
   "cell_type": "code",
   "execution_count": 81,
   "id": "bacterial-wednesday",
   "metadata": {},
   "outputs": [
    {
     "name": "stdout",
     "output_type": "stream",
     "text": [
      "Accuracy on nervalweather.txt =  0.2025862068965517\n"
     ]
    }
   ],
   "source": [
    "c = 1\n",
    "acc = 0\n",
    "total = 0\n",
    "for X_te1, y_te1,p1 in zip(X_test,y_test,p):\n",
    "#     print(\"Sentence \", c)\n",
    "    c+=1\n",
    "    for w, true, pred in zip(X_te1, y_te1, p1):\n",
    "        if w != \"__PAD__\" and tags[pred] == tags[true] :\n",
    "            acc+=1\n",
    "        total +=1\n",
    "print(\"Accuracy on nervalweather.txt = \", acc/total)"
   ]
  },
  {
   "cell_type": "code",
   "execution_count": null,
   "id": "backed-gilbert",
   "metadata": {},
   "outputs": [],
   "source": []
  }
 ],
 "metadata": {
  "kernelspec": {
   "display_name": "venv",
   "language": "python",
   "name": "venv"
  },
  "language_info": {
   "codemirror_mode": {
    "name": "ipython",
    "version": 3
   },
   "file_extension": ".py",
   "mimetype": "text/x-python",
   "name": "python",
   "nbconvert_exporter": "python",
   "pygments_lexer": "ipython3",
   "version": "3.8.8"
  }
 },
 "nbformat": 4,
 "nbformat_minor": 5
}
