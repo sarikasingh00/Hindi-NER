{
 "cells": [
  {
   "cell_type": "markdown",
   "id": "forty-renaissance",
   "metadata": {},
   "source": [
    "# Hindi Named Entity Recognition on Weather Dataset"
   ]
  },
  {
   "cell_type": "markdown",
   "id": "right-costa",
   "metadata": {},
   "source": [
    "**Dataset from -** \n",
    "- https://medium.com/saarthi-ai/how-to-make-your-own-ner-model-with-contexual-word-embeddings-5086276e04a0\n",
    "\n",
    "**Elmo Embeddings for Hindi from -**\n",
    "- https://www.cse.iitb.ac.in/~pb/papers/sltu-ccurl20-il-we.pdf \n",
    "- https://www.cfilt.iitb.ac.in/~diptesh/embeddings/monolingual/contextual/ - hi.zip\n",
    "\n",
    "**Refernces -**\n",
    "- https://www.depends-on-the-definition.com/named-entity-recognition-with-residual-lstm-and-elmo/\n",
    "- http://docs.allennlp.org/v0.9.0/api/allennlp.modules.elmo.html"
   ]
  },
  {
   "cell_type": "markdown",
   "id": "whole-pharmacy",
   "metadata": {},
   "source": [
    "**Importing libraries**"
   ]
  },
  {
   "cell_type": "code",
   "execution_count": 1,
   "id": "apparent-banner",
   "metadata": {},
   "outputs": [],
   "source": [
    "import numpy as np\n",
    "import os\n",
    "import pandas as pd\n",
    "import re"
   ]
  },
  {
   "cell_type": "markdown",
   "id": "fantastic-metro",
   "metadata": {},
   "source": [
    "**Setting data directory**  \n",
    "Folder structure -   \n",
    "- elmo_ner_hid512.ipynb  \n",
    "- Data    \n",
    "    nertrnweather.txt  \n",
    "    nervalweather.txt  \n",
    "- hi    \n",
    "    elmo  \n",
    "    hi-d512-elmo.hdf5  \n",
    "    hi-d512-options.json  "
   ]
  },
  {
   "cell_type": "code",
   "execution_count": 2,
   "id": "cleared-sword",
   "metadata": {},
   "outputs": [],
   "source": [
    "data_dir = r'Data/'"
   ]
  },
  {
   "cell_type": "markdown",
   "id": "economic-plain",
   "metadata": {},
   "source": [
    "**Dataset File Structure**"
   ]
  },
  {
   "cell_type": "code",
   "execution_count": 3,
   "id": "bottom-farmer",
   "metadata": {
    "scrolled": true
   },
   "outputs": [
    {
     "data": {
      "text/plain": [
       "array([['अरे', 'O'],\n",
       "       ['सारथी', 'O'],\n",
       "       ['जम्मू', 'U-location'],\n",
       "       ...,\n",
       "       ['क्या', 'O'],\n",
       "       ['है', 'O'],\n",
       "       ['?', 'O']], dtype='<U14')"
      ]
     },
     "execution_count": 3,
     "metadata": {},
     "output_type": "execute_result"
    }
   ],
   "source": [
    "file = np.loadtxt(fname=data_dir+'nertrnweather.txt',encoding='utf-8',dtype=str)\n",
    "file"
   ]
  },
  {
   "cell_type": "markdown",
   "id": "narrative-composition",
   "metadata": {},
   "source": [
    "**Loading Data into pandas Dataframe**"
   ]
  },
  {
   "cell_type": "code",
   "execution_count": 4,
   "id": "unsigned-operation",
   "metadata": {},
   "outputs": [],
   "source": [
    "df = pd.DataFrame(columns=['Sentence #','Word','Tag'])"
   ]
  },
  {
   "cell_type": "code",
   "execution_count": 5,
   "id": "helpful-tomato",
   "metadata": {},
   "outputs": [
    {
     "data": {
      "text/html": [
       "<div>\n",
       "<style scoped>\n",
       "    .dataframe tbody tr th:only-of-type {\n",
       "        vertical-align: middle;\n",
       "    }\n",
       "\n",
       "    .dataframe tbody tr th {\n",
       "        vertical-align: top;\n",
       "    }\n",
       "\n",
       "    .dataframe thead th {\n",
       "        text-align: right;\n",
       "    }\n",
       "</style>\n",
       "<table border=\"1\" class=\"dataframe\">\n",
       "  <thead>\n",
       "    <tr style=\"text-align: right;\">\n",
       "      <th></th>\n",
       "      <th>Sentence #</th>\n",
       "      <th>Word</th>\n",
       "      <th>Tag</th>\n",
       "    </tr>\n",
       "  </thead>\n",
       "  <tbody>\n",
       "    <tr>\n",
       "      <th>0</th>\n",
       "      <td>Sentence 1</td>\n",
       "      <td>अरे</td>\n",
       "      <td>O</td>\n",
       "    </tr>\n",
       "    <tr>\n",
       "      <th>1</th>\n",
       "      <td>Sentence 1</td>\n",
       "      <td>सारथी</td>\n",
       "      <td>O</td>\n",
       "    </tr>\n",
       "    <tr>\n",
       "      <th>2</th>\n",
       "      <td>Sentence 1</td>\n",
       "      <td>जम्मू</td>\n",
       "      <td>U-location</td>\n",
       "    </tr>\n",
       "    <tr>\n",
       "      <th>3</th>\n",
       "      <td>Sentence 1</td>\n",
       "      <td>कैसा</td>\n",
       "      <td>O</td>\n",
       "    </tr>\n",
       "    <tr>\n",
       "      <th>4</th>\n",
       "      <td>Sentence 1</td>\n",
       "      <td>मौसम</td>\n",
       "      <td>O</td>\n",
       "    </tr>\n",
       "    <tr>\n",
       "      <th>...</th>\n",
       "      <td>...</td>\n",
       "      <td>...</td>\n",
       "      <td>...</td>\n",
       "    </tr>\n",
       "    <tr>\n",
       "      <th>1403</th>\n",
       "      <td>Sentence 203</td>\n",
       "      <td>की</td>\n",
       "      <td>O</td>\n",
       "    </tr>\n",
       "    <tr>\n",
       "      <th>1404</th>\n",
       "      <td>Sentence 203</td>\n",
       "      <td>स्थिति</td>\n",
       "      <td>O</td>\n",
       "    </tr>\n",
       "    <tr>\n",
       "      <th>1405</th>\n",
       "      <td>Sentence 203</td>\n",
       "      <td>क्या</td>\n",
       "      <td>O</td>\n",
       "    </tr>\n",
       "    <tr>\n",
       "      <th>1406</th>\n",
       "      <td>Sentence 203</td>\n",
       "      <td>है</td>\n",
       "      <td>O</td>\n",
       "    </tr>\n",
       "    <tr>\n",
       "      <th>1407</th>\n",
       "      <td>Sentence 203</td>\n",
       "      <td>?</td>\n",
       "      <td>O</td>\n",
       "    </tr>\n",
       "  </tbody>\n",
       "</table>\n",
       "<p>1408 rows × 3 columns</p>\n",
       "</div>"
      ],
      "text/plain": [
       "        Sentence #    Word         Tag\n",
       "0       Sentence 1     अरे           O\n",
       "1       Sentence 1   सारथी           O\n",
       "2       Sentence 1   जम्मू  U-location\n",
       "3       Sentence 1    कैसा           O\n",
       "4       Sentence 1    मौसम           O\n",
       "...            ...     ...         ...\n",
       "1403  Sentence 203      की           O\n",
       "1404  Sentence 203  स्थिति           O\n",
       "1405  Sentence 203    क्या           O\n",
       "1406  Sentence 203      है           O\n",
       "1407  Sentence 203       ?           O\n",
       "\n",
       "[1408 rows x 3 columns]"
      ]
     },
     "execution_count": 5,
     "metadata": {},
     "output_type": "execute_result"
    }
   ],
   "source": [
    "i=1\n",
    "data = list()\n",
    "with open(data_dir+'nertrnweather.txt',encoding='utf-8') as f:\n",
    "    for line in f.readlines():\n",
    "        if line=='\\n':\n",
    "            i+=1\n",
    "        else:\n",
    "            data=line.split(\" \")\n",
    "            df=df.append({\"Sentence #\":f\"Sentence {i}\",\"Word\":data[0],\"Tag\":re.sub(\"\\n\",\"\",data[1])},ignore_index=True)\n",
    "df"
   ]
  },
  {
   "cell_type": "markdown",
   "id": "bizarre-manufacturer",
   "metadata": {},
   "source": [
    "**Checking vocabulary length**"
   ]
  },
  {
   "cell_type": "code",
   "execution_count": 6,
   "id": "norwegian-familiar",
   "metadata": {},
   "outputs": [
    {
     "data": {
      "text/plain": [
       "282"
      ]
     },
     "execution_count": 6,
     "metadata": {},
     "output_type": "execute_result"
    }
   ],
   "source": [
    "words = list(set(df[\"Word\"].values))\n",
    "words.append(\"ENDPAD\")\n",
    "n_words = len(words); n_words"
   ]
  },
  {
   "cell_type": "markdown",
   "id": "fitted-respect",
   "metadata": {},
   "source": [
    "**Getting the tags from dataset**"
   ]
  },
  {
   "cell_type": "code",
   "execution_count": 7,
   "id": "double-reply",
   "metadata": {},
   "outputs": [],
   "source": [
    "# tags = list(set(df[\"Tag\"].values))\n",
    "# n_tags = len(tags); n_tags\n",
    "# tags\n",
    "tags = ['B-date',\n",
    " 'U-location',\n",
    " 'U-date',\n",
    " 'L-location',\n",
    " 'U-weather_type',\n",
    " 'O',\n",
    " 'B-location',\n",
    " 'L-date',\n",
    " 'L-weather_type',\n",
    " 'B-weather_type']\n",
    "n_tags = len(tags);"
   ]
  },
  {
   "cell_type": "markdown",
   "id": "proper-pension",
   "metadata": {},
   "source": [
    "**Creating a class to get sentences from the dataframe**"
   ]
  },
  {
   "cell_type": "code",
   "execution_count": 8,
   "id": "champion-great",
   "metadata": {},
   "outputs": [],
   "source": [
    "class SentenceGetter(object):\n",
    "    \n",
    "    def __init__(self, data):\n",
    "        self.n_sent = 1\n",
    "        self.data = data\n",
    "        self.empty = False\n",
    "        agg_func = lambda s: [(w, t) for w, t in zip(s[\"Word\"].values.tolist(),\n",
    "                                                           s[\"Tag\"].values.tolist())]\n",
    "        self.grouped = self.data.groupby(\"Sentence #\").apply(agg_func)\n",
    "        self.sentences = [s for s in self.grouped]\n",
    "    \n",
    "    def get_next(self):\n",
    "        try:\n",
    "            s = self.grouped[\"Sentence {}\".format(self.n_sent)]\n",
    "            self.n_sent += 1\n",
    "            return s\n",
    "        except Exception as e:\n",
    "            print(e)\n",
    "            return None"
   ]
  },
  {
   "cell_type": "code",
   "execution_count": 9,
   "id": "german-pierre",
   "metadata": {},
   "outputs": [],
   "source": [
    "getter = SentenceGetter(df)"
   ]
  },
  {
   "cell_type": "markdown",
   "id": "chief-prescription",
   "metadata": {},
   "source": [
    "**Format example of sentences from SentenceGetter**"
   ]
  },
  {
   "cell_type": "code",
   "execution_count": 10,
   "id": "express-reaction",
   "metadata": {},
   "outputs": [
    {
     "name": "stdout",
     "output_type": "stream",
     "text": [
      "[('अरे', 'O'), ('सारथी', 'O'), ('जम्मू', 'U-location'), ('कैसा', 'O'), ('मौसम', 'O'), ('है', 'O')]\n"
     ]
    }
   ],
   "source": [
    "sent = getter.get_next()\n",
    "print(sent)"
   ]
  },
  {
   "cell_type": "code",
   "execution_count": 11,
   "id": "possible-lincoln",
   "metadata": {},
   "outputs": [],
   "source": [
    "sentences = getter.sentences"
   ]
  },
  {
   "cell_type": "markdown",
   "id": "finite-failure",
   "metadata": {},
   "source": [
    "**Setting maximum length of sentences to ensure same length padded sentences**  \n",
    "**Making a tag-index dictionary** "
   ]
  },
  {
   "cell_type": "code",
   "execution_count": 12,
   "id": "headed-nutrition",
   "metadata": {},
   "outputs": [],
   "source": [
    "max_len = 16\n",
    "tag2idx = {t: i for i, t in enumerate(tags)}"
   ]
  },
  {
   "cell_type": "code",
   "execution_count": 13,
   "id": "american-armstrong",
   "metadata": {},
   "outputs": [
    {
     "data": {
      "text/plain": [
       "1"
      ]
     },
     "execution_count": 13,
     "metadata": {},
     "output_type": "execute_result"
    }
   ],
   "source": [
    "tag2idx[\"U-location\"]"
   ]
  },
  {
   "cell_type": "markdown",
   "id": "coral-cooking",
   "metadata": {},
   "source": [
    "**Converting sentences to list of words** "
   ]
  },
  {
   "cell_type": "code",
   "execution_count": 14,
   "id": "funded-amsterdam",
   "metadata": {},
   "outputs": [],
   "source": [
    "X = [[w[0] for w in s] for s in sentences]"
   ]
  },
  {
   "cell_type": "markdown",
   "id": "wrapped-murder",
   "metadata": {},
   "source": [
    "**Inserting __PAD__ as padding for sentences of length < max_len**"
   ]
  },
  {
   "cell_type": "code",
   "execution_count": 15,
   "id": "aerial-convergence",
   "metadata": {},
   "outputs": [],
   "source": [
    "new_X = []\n",
    "for seq in X:\n",
    "    new_seq = []\n",
    "    for i in range(max_len):\n",
    "        try:\n",
    "            new_seq.append(seq[i])\n",
    "        except:\n",
    "            new_seq.append(\"__PAD__\")\n",
    "    new_X.append(new_seq)\n",
    "X = new_X"
   ]
  },
  {
   "cell_type": "code",
   "execution_count": 16,
   "id": "floppy-sharing",
   "metadata": {},
   "outputs": [
    {
     "name": "stdout",
     "output_type": "stream",
     "text": [
      "203\n"
     ]
    }
   ],
   "source": [
    "print(len(X))"
   ]
  },
  {
   "cell_type": "markdown",
   "id": "compressed-correlation",
   "metadata": {},
   "source": [
    "**Converting tags to indices**"
   ]
  },
  {
   "cell_type": "code",
   "execution_count": 17,
   "id": "discrete-donna",
   "metadata": {},
   "outputs": [],
   "source": [
    "y = [[tag2idx[w[1]] for w in s] for s in sentences]"
   ]
  },
  {
   "cell_type": "markdown",
   "id": "violent-dispute",
   "metadata": {},
   "source": [
    "**Adding 'O' tags for __PAD__**"
   ]
  },
  {
   "cell_type": "code",
   "execution_count": 18,
   "id": "adopted-morris",
   "metadata": {},
   "outputs": [],
   "source": [
    "from keras.preprocessing.sequence import pad_sequences\n",
    "y = pad_sequences(maxlen=max_len, sequences=y, padding=\"post\", value=tag2idx[\"O\"])"
   ]
  },
  {
   "cell_type": "code",
   "execution_count": 19,
   "id": "going-identification",
   "metadata": {},
   "outputs": [
    {
     "data": {
      "text/plain": [
       "array([1, 5, 5, 5, 5, 5, 5, 5, 5, 5, 5, 5, 5, 5, 5, 5])"
      ]
     },
     "execution_count": 19,
     "metadata": {},
     "output_type": "execute_result"
    }
   ],
   "source": [
    "y[1]"
   ]
  },
  {
   "cell_type": "code",
   "execution_count": 20,
   "id": "perceived-helicopter",
   "metadata": {},
   "outputs": [],
   "source": [
    "# X_tr, X_te, y_tr, y_te = train_test_split(X, y, test_size=0.14, random_state=2018)"
   ]
  },
  {
   "cell_type": "markdown",
   "id": "friendly-throw",
   "metadata": {},
   "source": [
    "**Setting batch_size for model**  \n",
    "Note - train and test set sizes must be divisible by batch_size for model to train"
   ]
  },
  {
   "cell_type": "code",
   "execution_count": 21,
   "id": "detected-gossip",
   "metadata": {},
   "outputs": [],
   "source": [
    "batch_size = 29"
   ]
  },
  {
   "cell_type": "markdown",
   "id": "diagnostic-processing",
   "metadata": {},
   "source": [
    "**Using AllenNLP for loading pre-trained ElMo model**"
   ]
  },
  {
   "cell_type": "code",
   "execution_count": 22,
   "id": "accessible-hartford",
   "metadata": {},
   "outputs": [],
   "source": [
    "from allennlp.modules.elmo import Elmo,batch_to_ids"
   ]
  },
  {
   "cell_type": "code",
   "execution_count": 23,
   "id": "plastic-angel",
   "metadata": {},
   "outputs": [],
   "source": [
    "datadir = os.path.join('hi', 'elmo')\n",
    "options_file = os.path.join(datadir, 'hi-d512-options.json')\n",
    "weight_file = os.path.join(datadir, 'hi-d512-elmo.hdf5')\n",
    "\n",
    "elmo = Elmo(options_file,weight_file,1,dropout=0)"
   ]
  },
  {
   "cell_type": "markdown",
   "id": "elect-connecticut",
   "metadata": {},
   "source": [
    "**Converting sentences to embeddings using the pre-trained ElMo**"
   ]
  },
  {
   "cell_type": "code",
   "execution_count": 24,
   "id": "thermal-lunch",
   "metadata": {},
   "outputs": [],
   "source": [
    "embeds = elmo(batch_to_ids(X))"
   ]
  },
  {
   "cell_type": "code",
   "execution_count": 25,
   "id": "potential-connection",
   "metadata": {},
   "outputs": [],
   "source": [
    "embedding = embeds[\"elmo_representations\"]"
   ]
  },
  {
   "cell_type": "code",
   "execution_count": 26,
   "id": "identical-cemetery",
   "metadata": {},
   "outputs": [
    {
     "data": {
      "text/plain": [
       "torch.Size([203, 16, 1024])"
      ]
     },
     "execution_count": 26,
     "metadata": {},
     "output_type": "execute_result"
    }
   ],
   "source": [
    "embedding[0].shape"
   ]
  },
  {
   "cell_type": "markdown",
   "id": "greek-exhibition",
   "metadata": {},
   "source": [
    "**Converting torch tensor to embedding matrix (list of lists)**"
   ]
  },
  {
   "cell_type": "code",
   "execution_count": 27,
   "id": "numeric-celtic",
   "metadata": {},
   "outputs": [],
   "source": [
    "import torch\n",
    "import tensorflow as tf\n",
    "\n",
    "embedding1 = []\n",
    "for t in embedding:\n",
    "    np_tensor = t.detach().numpy()\n",
    "    embedding1 += [np_tensor.tolist()]\n",
    "\n",
    "embedding = embedding1\n"
   ]
  },
  {
   "cell_type": "code",
   "execution_count": 28,
   "id": "hybrid-travel",
   "metadata": {},
   "outputs": [
    {
     "name": "stdout",
     "output_type": "stream",
     "text": [
      "203\n"
     ]
    }
   ],
   "source": [
    "print(len(embedding[0]))"
   ]
  },
  {
   "cell_type": "code",
   "execution_count": 29,
   "id": "antique-science",
   "metadata": {},
   "outputs": [
    {
     "data": {
      "text/plain": [
       "(203, 16)"
      ]
     },
     "execution_count": 29,
     "metadata": {},
     "output_type": "execute_result"
    }
   ],
   "source": [
    "y.shape"
   ]
  },
  {
   "cell_type": "markdown",
   "id": "yellow-genesis",
   "metadata": {},
   "source": [
    "**Dataset split for train,test**"
   ]
  },
  {
   "cell_type": "code",
   "execution_count": 30,
   "id": "individual-number",
   "metadata": {},
   "outputs": [],
   "source": [
    "from sklearn.model_selection import train_test_split"
   ]
  },
  {
   "cell_type": "code",
   "execution_count": 31,
   "id": "tribal-blues",
   "metadata": {},
   "outputs": [],
   "source": [
    "X_tr, X_te, y_tr, y_te = train_test_split(embedding[0], y, test_size=0.14, random_state=2018)"
   ]
  },
  {
   "cell_type": "markdown",
   "id": "corrected-examination",
   "metadata": {},
   "source": [
    "**Model Building**"
   ]
  },
  {
   "cell_type": "code",
   "execution_count": 32,
   "id": "departmental-rapid",
   "metadata": {},
   "outputs": [],
   "source": [
    "# import tensorflow as tf\n",
    "import tensorflow.compat.v1 as tf\n",
    "import tensorflow_hub as hub\n",
    "from keras import backend as K\n",
    "# import keras.backend.tensorflow_backend as K"
   ]
  },
  {
   "cell_type": "code",
   "execution_count": 33,
   "id": "sublime-remove",
   "metadata": {},
   "outputs": [],
   "source": [
    "sess = tf.Session()\n",
    "# K.set_session(sess)\n",
    "tf.compat.v1.keras.backend.set_session(sess);"
   ]
  },
  {
   "cell_type": "code",
   "execution_count": 34,
   "id": "spare-gateway",
   "metadata": {},
   "outputs": [],
   "source": [
    "tf.disable_eager_execution()\n",
    "# tf.enable_eager_execution()"
   ]
  },
  {
   "cell_type": "code",
   "execution_count": 35,
   "id": "extra-hollywood",
   "metadata": {},
   "outputs": [],
   "source": [
    "from keras.models import Model, Input, Sequential\n",
    "from keras.layers.merge import add\n",
    "from keras.layers import LSTM, Embedding, Dense, TimeDistributed, Dropout, Bidirectional, Lambda"
   ]
  },
  {
   "cell_type": "markdown",
   "id": "textile-chester",
   "metadata": {},
   "source": [
    "**Feeding embeddings straight to first layer**"
   ]
  },
  {
   "cell_type": "code",
   "execution_count": 36,
   "id": "advance-kernel",
   "metadata": {},
   "outputs": [],
   "source": [
    "input_text = Input(shape=(max_len,1024), dtype=tf.float32)\n",
    "\n",
    "x = Bidirectional(LSTM(units=512, return_sequences=True,\n",
    "                       recurrent_dropout=0.2, dropout=0.2))(input_text)\n",
    "x_rnn = Bidirectional(LSTM(units=512, return_sequences=True,\n",
    "                           recurrent_dropout=0.2, dropout=0.2))(x)\n",
    "# x = add([x, x_rnn])  # residual connection to the first biLSTM\n",
    "out = TimeDistributed(Dense(n_tags, activation=\"softmax\"))(x_rnn)\n",
    "\n",
    "\n",
    "\n",
    "# model = Sequential()\n",
    "\n",
    "\n",
    "# # Add bidirectional LSTM\n",
    "# model.add(Bidirectional(LSTM(units=512, return_sequences=True, dropout=0.2, recurrent_dropout=0.2), merge_mode = 'concat'))\n",
    "\n",
    "# # Add LSTM\n",
    "# model.add(LSTM(units=512, return_sequences=True, dropout=0.5, recurrent_dropout=0.5))\n",
    "\n",
    "# # Add timeDistributed Layer\n",
    "# model.add(TimeDistributed(Dense(n_tags, activation=\"softmax\")))\n",
    "\n",
    "# #Optimiser \n",
    "# # adam = k.optimizers.Adam(lr=0.0005, beta_1=0.9, beta_2=0.999)\n",
    "\n",
    "# # Compile model\n",
    "# model.compile(loss='categorical_crossentropy', optimizer='adam', metrics=['accuracy'])\n",
    "# model.summary()"
   ]
  },
  {
   "cell_type": "code",
   "execution_count": 37,
   "id": "former-suspension",
   "metadata": {},
   "outputs": [],
   "source": [
    "# input_text = Input(shape=(max_len,), dtype=tf.string)\n",
    "model = Model(input_text, out)"
   ]
  },
  {
   "cell_type": "code",
   "execution_count": 38,
   "id": "material-acting",
   "metadata": {},
   "outputs": [],
   "source": [
    "model.compile(optimizer=\"adam\", loss=\"sparse_categorical_crossentropy\", metrics=[\"accuracy\"])"
   ]
  },
  {
   "cell_type": "code",
   "execution_count": 39,
   "id": "effective-pottery",
   "metadata": {},
   "outputs": [
    {
     "data": {
      "image/png": "[encoded data removed]",
      "text/plain": [
       "<IPython.core.display.Image object>"
      ]
     },
     "execution_count": 39,
     "metadata": {},
     "output_type": "execute_result"
    }
   ],
   "source": [
    "# # from tensorflow.keras.utils import plot_model\n",
    "# import pydot_ng as pydot\n",
    "# import pydotplus\n",
    "# from pydotplus import graphviz\n",
    "\n",
    "tf.keras.utils.plot_model(\n",
    "    model, to_file='model.png', show_shapes=False, show_dtype=False,\n",
    "    show_layer_names=True, rankdir='TB', expand_nested=False, dpi=96\n",
    ")"
   ]
  },
  {
   "cell_type": "code",
   "execution_count": 40,
   "id": "floppy-conservative",
   "metadata": {},
   "outputs": [
    {
     "name": "stdout",
     "output_type": "stream",
     "text": [
      "Model: \"model\"\n",
      "_________________________________________________________________\n",
      "Layer (type)                 Output Shape              Param #   \n",
      "=================================================================\n",
      "input_1 (InputLayer)         [(None, 16, 1024)]        0         \n",
      "_________________________________________________________________\n",
      "bidirectional (Bidirectional (None, 16, 1024)          6295552   \n",
      "_________________________________________________________________\n",
      "bidirectional_1 (Bidirection (None, 16, 1024)          6295552   \n",
      "_________________________________________________________________\n",
      "time_distributed (TimeDistri (None, 16, 10)            10250     \n",
      "=================================================================\n",
      "Total params: 12,601,354\n",
      "Trainable params: 12,601,354\n",
      "Non-trainable params: 0\n",
      "_________________________________________________________________\n"
     ]
    }
   ],
   "source": [
    "model.summary()"
   ]
  },
  {
   "cell_type": "markdown",
   "id": "rough-campus",
   "metadata": {},
   "source": [
    "**Ensuring correct shape**"
   ]
  },
  {
   "cell_type": "code",
   "execution_count": 41,
   "id": "bronze-fever",
   "metadata": {},
   "outputs": [],
   "source": [
    "y_tr = y_tr.reshape(y_tr.shape[0], y_tr.shape[1], 1)\n",
    "y_te = y_te.reshape(y_te.shape[0], y_te.shape[1], 1)"
   ]
  },
  {
   "cell_type": "code",
   "execution_count": 42,
   "id": "approved-conditioning",
   "metadata": {},
   "outputs": [
    {
     "name": "stdout",
     "output_type": "stream",
     "text": [
      "(29, 16, 1024)\n",
      "(174, 16, 1024)\n"
     ]
    }
   ],
   "source": [
    "print(np.array(X_te).shape)\n",
    "print(np.array(X_tr).shape)"
   ]
  },
  {
   "cell_type": "markdown",
   "id": "international-direction",
   "metadata": {},
   "source": [
    "**Model Training**"
   ]
  },
  {
   "cell_type": "code",
   "execution_count": 43,
   "id": "prerequisite-kitty",
   "metadata": {},
   "outputs": [
    {
     "name": "stdout",
     "output_type": "stream",
     "text": [
      "Train on 174 samples, validate on 29 samples\n",
      "Epoch 1/10\n",
      "174/174 [==============================] - ETA: 0s - loss: 0.9677 - accuracy: 0.6897"
     ]
    },
    {
     "name": "stderr",
     "output_type": "stream",
     "text": [
      "D:\\Sarika\\NER\\venv\\lib\\site-packages\\tensorflow\\python\\keras\\engine\\training.py:2325: UserWarning: `Model.state_updates` will be removed in a future version. This property should not be used in TensorFlow 2.0, as `updates` are applied automatically.\n",
      "  warnings.warn('`Model.state_updates` will be removed in a future version. '\n"
     ]
    },
    {
     "name": "stdout",
     "output_type": "stream",
     "text": [
      "174/174 [==============================] - 24s 138ms/sample - loss: 0.9677 - accuracy: 0.6897 - val_loss: 0.6375 - val_accuracy: 0.8642\n",
      "Epoch 2/10\n",
      "174/174 [==============================] - 17s 95ms/sample - loss: 0.5243 - accuracy: 0.8649 - val_loss: 0.4414 - val_accuracy: 0.8772\n",
      "Epoch 3/10\n",
      "174/174 [==============================] - 16s 94ms/sample - loss: 0.4241 - accuracy: 0.8728 - val_loss: 0.3551 - val_accuracy: 0.8728\n",
      "Epoch 4/10\n",
      "174/174 [==============================] - 16s 94ms/sample - loss: 0.3280 - accuracy: 0.8836 - val_loss: 0.2523 - val_accuracy: 0.9052\n",
      "Epoch 5/10\n",
      "174/174 [==============================] - 17s 95ms/sample - loss: 0.2174 - accuracy: 0.9454 - val_loss: 0.1506 - val_accuracy: 0.9634\n",
      "Epoch 6/10\n",
      "174/174 [==============================] - 16s 94ms/sample - loss: 0.1286 - accuracy: 0.9702 - val_loss: 0.0874 - val_accuracy: 0.9741\n",
      "Epoch 7/10\n",
      "174/174 [==============================] - 16s 95ms/sample - loss: 0.0793 - accuracy: 0.9820 - val_loss: 0.0606 - val_accuracy: 0.9849\n",
      "Epoch 8/10\n",
      "174/174 [==============================] - 16s 93ms/sample - loss: 0.0597 - accuracy: 0.9871 - val_loss: 0.0538 - val_accuracy: 0.9871\n",
      "Epoch 9/10\n",
      "174/174 [==============================] - 16s 94ms/sample - loss: 0.0463 - accuracy: 0.9892 - val_loss: 0.0498 - val_accuracy: 0.9871\n",
      "Epoch 10/10\n",
      "174/174 [==============================] - 16s 94ms/sample - loss: 0.0354 - accuracy: 0.9914 - val_loss: 0.0542 - val_accuracy: 0.9849\n"
     ]
    }
   ],
   "source": [
    "callback = tf.keras.callbacks.EarlyStopping(monitor='loss', patience=3)\n",
    "history = model.fit(np.array(X_tr), y_tr, validation_data=(np.array(X_te), y_te),\n",
    "                    batch_size=batch_size, epochs=10, verbose=1, callbacks=[callback])\n",
    "# history = model.fit(np.array(embedding), y_tr, validation_data=(np.array(X_te), y_te),\n",
    "#                     batch_size=batch_size, epochs=5, verbose=1)"
   ]
  },
  {
   "cell_type": "code",
   "execution_count": 44,
   "id": "disabled-wages",
   "metadata": {},
   "outputs": [],
   "source": [
    "hist = pd.DataFrame(history.history)"
   ]
  },
  {
   "cell_type": "code",
   "execution_count": 79,
   "id": "insured-lafayette",
   "metadata": {},
   "outputs": [
    {
     "data": {
      "image/png": "[encoded data removed]",
      "text/plain": [
       "<Figure size 864x864 with 1 Axes>"
      ]
     },
     "metadata": {
      "needs_background": "light"
     },
     "output_type": "display_data"
    }
   ],
   "source": [
    "import matplotlib.pyplot as plt\n",
    "\n",
    "plt.figure(figsize=(12,12))\n",
    "plt.plot(hist[\"accuracy\"])\n",
    "plt.plot(hist[\"val_accuracy\"])\n",
    "plt.title(\"Learning curves\")\n",
    "plt.legend(['Training Accuracy', 'Validation Accuracy'])\n",
    "plt.xlabel(\"Number of Epochs\")\n",
    "plt.ylabel(\"Accuracy\")\n",
    "plt.show()"
   ]
  },
  {
   "cell_type": "markdown",
   "id": "global-watch",
   "metadata": {},
   "source": [
    "**Printing results on test split**"
   ]
  },
  {
   "cell_type": "code",
   "execution_count": 46,
   "id": "local-transaction",
   "metadata": {},
   "outputs": [
    {
     "name": "stderr",
     "output_type": "stream",
     "text": [
      "D:\\Sarika\\NER\\venv\\lib\\site-packages\\tensorflow\\python\\keras\\engine\\training.py:2325: UserWarning: `Model.state_updates` will be removed in a future version. This property should not be used in TensorFlow 2.0, as `updates` are applied automatically.\n",
      "  warnings.warn('`Model.state_updates` will be removed in a future version. '\n"
     ]
    }
   ],
   "source": [
    "i=0\n",
    "p = model.predict(np.array(X_te[i:i+batch_size]))\n",
    "p = np.argmax(p, axis=-1)"
   ]
  },
  {
   "cell_type": "code",
   "execution_count": 47,
   "id": "civil-indonesia",
   "metadata": {},
   "outputs": [
    {
     "data": {
      "text/plain": [
       "(29, 16)"
      ]
     },
     "execution_count": 47,
     "metadata": {},
     "output_type": "execute_result"
    }
   ],
   "source": [
    "p.shape"
   ]
  },
  {
   "cell_type": "code",
   "execution_count": 48,
   "id": "joined-information",
   "metadata": {},
   "outputs": [
    {
     "name": "stdout",
     "output_type": "stream",
     "text": [
      "Sentence  120\n",
      " सिडनी (U-location) का (O) मौसम (O)\n",
      "Sentence  72\n",
      " किधर (O) ज्यादा (O) ठंडी (U-weather_type) होगी (O) कसोल (U-location) या (O) मनाली (U-location)\n",
      "Sentence  152\n",
      " आज (U-date) गर्मी (U-weather_type) ज्यादा (O) है (O) क्या (O)\n",
      "Sentence  84\n",
      " कहा (O) मौसम (O) अच्छा (O) है (O) बेंगलोरे (U-location) या (O) गुड़गांव (U-location)\n",
      "Sentence  66\n",
      " जौनपुर (U-location) कितना (O) ज्यादा (O) गर्म (U-weather_type) है (O) अभी (U-date) सूरत (U-location) से (O)\n",
      "Sentence  178\n",
      " क्या (O) मैं (O) घर (O) के (O) रास्ते (O) पर (O) भीगने (O) वाला (O) हूं (O)\n",
      "Sentence  5\n",
      " आज (U-date) बरसात (U-weather_type) की (O) संभावना (O) है (O) क्या (O)\n",
      "Sentence  165\n",
      " और (O) कितना (O) गर्मी (U-weather_type) बढ़ेगा (O) और (O) यहाँ (O)\n",
      "Sentence  2\n",
      " और (O) कितनी (O) बारिश (U-weather_type) होगी (O) यहाँ (O)\n",
      "Sentence  37\n",
      " सर्दी (U-weather_type) कब (U-date) से (O) चालू (O) होगी (O) इस (B-date) बार (L-date)\n",
      "Sentence  130\n",
      " आज (U-date) मौसम (O) का (O) क्या (O) हाल (O) है (O)\n",
      "Sentence  126\n",
      " आज (U-date) के (O) लिए (O) मौसम (O) रिपोर्ट (O) बताओ (O)\n",
      "Sentence  174\n",
      " क्या (O) इस (B-date) बार (L-date) ज्यादा (O) गर्मी (U-weather_type) पड़ेगी (O) सूरत (U-location) में (O)\n",
      "Sentence  28\n",
      " कितनी (O) बर्फ (U-weather_type) गिर (O) रही (O) है (O) कसोल (U-location) में (O)\n",
      "Sentence  11\n",
      " ये (O) बारिश (U-weather_type) कब (U-date) बंद (O) होगी (O)\n",
      "Sentence  54\n",
      " जम्मू (U-location) में (O) मौसम (O) अपेक्षाकृत (O) कैसा (O) है (O)\n",
      "Sentence  169\n",
      " अभी (U-date) कितनी (O) गर्मी (U-weather_type) है (O) भरुच (U-location) में (O)\n",
      "Sentence  92\n",
      " क्या (O) कल (U-date) ज्यादा (O) गर्म (U-weather_type) होगा (O) दिल्ली (U-location) में (O) आज (U-date) से (O)\n",
      "Sentence  143\n",
      " कसोल (U-location) में (O) क्या (O) तापमान (O) चल (O) रहा (O) है (O)\n",
      "Sentence  62\n",
      " क्या (O) मुंबई (U-location) ज्यादा (O) गर्म (U-weather_type) है (O) कोलकाता (U-location) से (O)\n",
      "Sentence  177\n",
      " क्या (O) बाद (U-date) में (O) बारिश (U-weather_type) होगी (O)\n",
      "Sentence  182\n",
      " क्या (O) बाद (U-date) में (O) बारिश (U-weather_type) होगी (O)\n",
      "Sentence  85\n",
      " हमीरपुर (U-location) गरम (U-weather_type) है (O) क्या (O) नागपुर (U-location) से (O)\n",
      "Sentence  190\n",
      " क्या (O) रात (U-date) भर (O) बारिश (U-weather_type) होगी (O)\n",
      "Sentence  93\n",
      " क्या (O) कल (U-date) भी (O) काफी (O) बारिश (U-weather_type) होगी (O) आज (U-date) के (O) जैसे (O)\n",
      "Sentence  194\n",
      " क्या (O) बिना (O) छतरी (O) के (O) रात (U-date) में (O) यात्रा (O) करना (O) सुरक्षित (O) है (O)\n",
      "Sentence  202\n",
      " कब (U-date) तक (O) बारिश (U-weather_type) होगी (O) दिल्ली (U-location) में (O)\n",
      "Sentence  51\n",
      " अप्रैल (U-date) में (O) बर्फ (U-weather_type) गिर (O) सकती (O) है (O) क्या (O) शिमला (U-location) में (O)\n",
      "Sentence  53\n",
      " कौन (O) अधिक (O) ठंडा (U-weather_type) है (O) , (O) कसोल (U-location) या (O) गंगटोक (U-location)\n",
      "Sentence  58\n",
      " मुंबई (U-location) या (O) चेन्नई (U-location) में (O) आज (U-date) ज्यादा (O) गर्म (U-weather_type)\n"
     ]
    }
   ],
   "source": [
    "for X_te1, y_te1,p1 in zip(X_te,y_te.tolist(),p):\n",
    "    for i,e in enumerate(embedding[0]):\n",
    "        if e==X_te1:\n",
    "            print(\"Sentence \", i)\n",
    "            sentence = \"\"\n",
    "#             c+=1\n",
    "            for w, true, pred in zip(X[i], y_te1, p1):\n",
    "                if w != \"__PAD__\":\n",
    "                    sentence += \" {} ({})\".format(w,tags[pred])\n",
    "#                 if w != \"__PAD__\" and tags[pred] == tags[true[0]]:\n",
    "#                     print(\"{} : {} ({})\".format(w,tags[pred], tags[true[0]]))\n",
    "            print(sentence)"
   ]
  },
  {
   "cell_type": "markdown",
   "id": "attractive-blanket",
   "metadata": {},
   "source": [
    "**Printing results on train split (29 samples)**"
   ]
  },
  {
   "cell_type": "code",
   "execution_count": 49,
   "id": "national-conditions",
   "metadata": {},
   "outputs": [],
   "source": [
    "i = 0\n",
    "p = model.predict(np.array(X_tr[i:i+batch_size]))\n",
    "p = np.argmax(p, axis=-1)"
   ]
  },
  {
   "cell_type": "code",
   "execution_count": 50,
   "id": "lonely-anxiety",
   "metadata": {},
   "outputs": [
    {
     "name": "stdout",
     "output_type": "stream",
     "text": [
      "Sentence  201\n",
      " मुंबई (U-location) में (O) बारिश (U-weather_type) होगी (O) क्या (O) आज (U-date)\n",
      "Sentence  168\n",
      " क्या (O) कोटा (U-location) में (O) लू (U-weather_type) चल (O) रही (O) है (O)\n",
      "Sentence  56\n",
      " कल (U-date) मौसम (O) कैसा (O) रहने (O) वाला (O) है (O)\n",
      "Sentence  27\n",
      " क्या (O) बर्फ (U-weather_type) बरी (O) चालू (O) है (O) मनाली (U-location) में (O)\n",
      "Sentence  113\n",
      " सबसे (O) ठंडी (U-weather_type) जगह (O) कौनसी (O) है (O) दुनिया (U-location) में (O)\n",
      "Sentence  63\n",
      " बैंगलोर (U-location) ठंडा (U-weather_type) है (O) क्या (O) गुड़गांव (U-location) से (O)\n",
      "Sentence  79\n",
      " पटना (U-location) कितना (O) डिग्री (O) ज्यादा (O) ठंडा (U-weather_type) है (O) सूरत (U-location) से (O)\n",
      "Sentence  15\n",
      " क्या (O) बेंगलुरु (U-location) में (O) बारिश (U-weather_type) हो (O) रही (O) है (O)\n",
      "Sentence  21\n",
      " क्या (O) बैंगलोर (U-location) में (O) हिमपात (U-weather_type) हो (O) रहा (O) है (O)\n",
      "Sentence  7\n",
      " क्या (O) आज (U-date) जोरदार (O) बारिश (U-weather_type) होने (O) वाली (O) है (O) नागपुर (U-location) में (O)\n",
      "Sentence  78\n",
      " अगले (B-date) सोमवार (L-date) के (O) लिए (O) पूर्वानुमान (O) क्या (O) है (O)\n",
      "Sentence  124\n",
      " मौसम (O) आज (U-date) अच्छा (O) लग (O) रहा (O) है (O) , (O) है (O) ना (O)\n",
      "Sentence  176\n",
      " क्या (O) कल (U-date) कोलकाता (U-location) में (O) गर्मी (U-weather_type) होगा (O)\n",
      "Sentence  83\n",
      " कितना (O) अधिक (O) ठंडा (U-weather_type) है (O) लाहौर (U-location) मनाली (U-location) से (O)\n",
      "Sentence  81\n",
      " दिल्ली (U-location) और (O) कोलकाता (U-location) के (O) मौसम (O) में (O) कितना (O) फर्क (O) है (O)\n",
      "Sentence  136\n",
      " मौसम (O) कैसा (O) है (O) लोनावाला (U-location) में (O)\n",
      "Sentence  118\n",
      " मुझे (O) बताओ (O) हांगकांग (U-location) में (O) तापमान (O) क्या (O) है (O)\n",
      "Sentence  36\n",
      " ठंडी (U-weather_type) कब (U-date) से (O) चालू (O) होगी (O) बार (O)\n",
      "Sentence  142\n",
      " मसूरी (U-location) का (O) तापमान (O) बताओ (O)\n",
      "Sentence  140\n",
      " इस (B-date) हफ्ते (L-date) केसा (O) रहेगा (O) मौसम (O) ऊटी (U-location) में (O)\n",
      "Sentence  95\n",
      " कुल्लू (U-location) में (O) ज्यादा (O) अच्छा (O) मौसम (O) है (O) क्या (O) मनाली (U-location) से (O)\n",
      "Sentence  150\n",
      " ऐसा (O) लगता (O) है (O) कि (O) यह (O) एक (O) गर्म (U-weather_type) दिन (O) होगा (O) , (O) है (O) ना (O)\n",
      "Sentence  35\n",
      " चंबा (U-location) में (O) क्या (O) इस (B-date) बार (L-date) ठंड (U-weather_type) ज्यादा (O) है (O)\n",
      "Sentence  107\n",
      " भारत (U-location) में (O) सबसे (O) ज्यादा (O) गर्म (U-weather_type) शहर (O) कौनसा (O) है (O)\n",
      "Sentence  139\n",
      " अगले (B-date) महीने (L-date) कैसा (O) रहेगा (O) मौसम (O) दिल्ली (U-location) में (O)\n",
      "Sentence  68\n",
      " मनाली (U-location) में (O) ठंडी (U-weather_type) ज्यादा (O) होती (O) है (O) क्या (O) कुल्लू (U-location) से (O)\n",
      "Sentence  114\n",
      " दुनिया (U-location) में (O) सबसे (O) ज्यादा (O) गर्मी (U-weather_type) कहा (O) होती (O) है (O)\n",
      "Sentence  179\n",
      " क्या (O) मुझे (O) आज (B-date) सुबह (L-date) छतरी (U-weather_type) लेनी (O) चाहिए (O)\n",
      "Sentence  43\n",
      " कितनी (O) ठंडी (U-weather_type) चल (O) रही (O) है (O) श्रीनगर (U-location) में (O)\n"
     ]
    }
   ],
   "source": [
    "for X_te1, y_te1,p1 in zip(X_tr,y_tr.tolist(),p):\n",
    "    for i,e in enumerate(embedding[0]):\n",
    "        if e==X_te1:\n",
    "            print(\"Sentence \", i)\n",
    "            sentence = \"\"\n",
    "#             c+=1\n",
    "            for w, true, pred in zip(X[i], y_te1, p1):\n",
    "                if w != \"__PAD__\":\n",
    "                    sentence += \" {} ({})\".format(w,tags[pred])\n",
    "#                 if w != \"__PAD__\" and tags[pred] == tags[true[0]]:\n",
    "#                     print(\"{} : {} ({})\".format(w,tags[pred], tags[true[0]]))\n",
    "            print(sentence)"
   ]
  },
  {
   "cell_type": "markdown",
   "id": "pacific-nicholas",
   "metadata": {},
   "source": [
    "**Testing model on nervalweather.txt**"
   ]
  },
  {
   "cell_type": "code",
   "execution_count": 51,
   "id": "unlikely-fellow",
   "metadata": {},
   "outputs": [],
   "source": [
    "df = pd.DataFrame(columns=['Sentence #','Word','Tag'])"
   ]
  },
  {
   "cell_type": "code",
   "execution_count": 52,
   "id": "outstanding-composition",
   "metadata": {},
   "outputs": [
    {
     "data": {
      "text/html": [
       "<div>\n",
       "<style scoped>\n",
       "    .dataframe tbody tr th:only-of-type {\n",
       "        vertical-align: middle;\n",
       "    }\n",
       "\n",
       "    .dataframe tbody tr th {\n",
       "        vertical-align: top;\n",
       "    }\n",
       "\n",
       "    .dataframe thead th {\n",
       "        text-align: right;\n",
       "    }\n",
       "</style>\n",
       "<table border=\"1\" class=\"dataframe\">\n",
       "  <thead>\n",
       "    <tr style=\"text-align: right;\">\n",
       "      <th></th>\n",
       "      <th>Sentence #</th>\n",
       "      <th>Word</th>\n",
       "      <th>Tag</th>\n",
       "    </tr>\n",
       "  </thead>\n",
       "  <tbody>\n",
       "    <tr>\n",
       "      <th>0</th>\n",
       "      <td>Sentence 1</td>\n",
       "      <td>आज</td>\n",
       "      <td>U-date</td>\n",
       "    </tr>\n",
       "    <tr>\n",
       "      <th>1</th>\n",
       "      <td>Sentence 1</td>\n",
       "      <td>मौसम</td>\n",
       "      <td>O</td>\n",
       "    </tr>\n",
       "    <tr>\n",
       "      <th>2</th>\n",
       "      <td>Sentence 1</td>\n",
       "      <td>कैसा</td>\n",
       "      <td>O</td>\n",
       "    </tr>\n",
       "    <tr>\n",
       "      <th>3</th>\n",
       "      <td>Sentence 1</td>\n",
       "      <td>है</td>\n",
       "      <td>O</td>\n",
       "    </tr>\n",
       "    <tr>\n",
       "      <th>4</th>\n",
       "      <td>Sentence 2</td>\n",
       "      <td>क्या</td>\n",
       "      <td>O</td>\n",
       "    </tr>\n",
       "    <tr>\n",
       "      <th>...</th>\n",
       "      <td>...</td>\n",
       "      <td>...</td>\n",
       "      <td>...</td>\n",
       "    </tr>\n",
       "    <tr>\n",
       "      <th>125</th>\n",
       "      <td>Sentence 21</td>\n",
       "      <td>रेणुकूट</td>\n",
       "      <td>U-location</td>\n",
       "    </tr>\n",
       "    <tr>\n",
       "      <th>126</th>\n",
       "      <td>Sentence 21</td>\n",
       "      <td>में</td>\n",
       "      <td>O</td>\n",
       "    </tr>\n",
       "    <tr>\n",
       "      <th>127</th>\n",
       "      <td>Sentence 21</td>\n",
       "      <td>मौसम</td>\n",
       "      <td>O</td>\n",
       "    </tr>\n",
       "    <tr>\n",
       "      <th>128</th>\n",
       "      <td>Sentence 21</td>\n",
       "      <td>कैसा</td>\n",
       "      <td>O</td>\n",
       "    </tr>\n",
       "    <tr>\n",
       "      <th>129</th>\n",
       "      <td>Sentence 21</td>\n",
       "      <td>है</td>\n",
       "      <td>O</td>\n",
       "    </tr>\n",
       "  </tbody>\n",
       "</table>\n",
       "<p>130 rows × 3 columns</p>\n",
       "</div>"
      ],
      "text/plain": [
       "      Sentence #     Word         Tag\n",
       "0     Sentence 1       आज      U-date\n",
       "1     Sentence 1     मौसम           O\n",
       "2     Sentence 1     कैसा           O\n",
       "3     Sentence 1       है           O\n",
       "4     Sentence 2     क्या           O\n",
       "..           ...      ...         ...\n",
       "125  Sentence 21  रेणुकूट  U-location\n",
       "126  Sentence 21      में           O\n",
       "127  Sentence 21     मौसम           O\n",
       "128  Sentence 21     कैसा           O\n",
       "129  Sentence 21       है           O\n",
       "\n",
       "[130 rows x 3 columns]"
      ]
     },
     "execution_count": 52,
     "metadata": {},
     "output_type": "execute_result"
    }
   ],
   "source": [
    "i=1\n",
    "data = list()\n",
    "with open(data_dir+'nervalweather.txt',encoding='utf-8') as f:\n",
    "    for line in f.readlines():\n",
    "        if line=='\\n':\n",
    "            i+=1\n",
    "        else:\n",
    "            data=line.split(\" \")\n",
    "            df=df.append({\"Sentence #\":f\"Sentence {i}\",\"Word\":data[0],\"Tag\":re.sub(\"\\n\",\"\",data[1])},ignore_index=True)\n",
    "df"
   ]
  },
  {
   "cell_type": "code",
   "execution_count": 53,
   "id": "attempted-morris",
   "metadata": {},
   "outputs": [
    {
     "data": {
      "text/plain": [
       "57"
      ]
     },
     "execution_count": 53,
     "metadata": {},
     "output_type": "execute_result"
    }
   ],
   "source": [
    "words = list(set(df[\"Word\"].values))\n",
    "words.append(\"ENDPAD\")\n",
    "n_words = len(words); n_words"
   ]
  },
  {
   "cell_type": "code",
   "execution_count": 54,
   "id": "quarterly-detroit",
   "metadata": {},
   "outputs": [],
   "source": [
    "getter = SentenceGetter(df)"
   ]
  },
  {
   "cell_type": "code",
   "execution_count": 55,
   "id": "instrumental-hughes",
   "metadata": {},
   "outputs": [],
   "source": [
    "sentences = getter.sentences"
   ]
  },
  {
   "cell_type": "code",
   "execution_count": 56,
   "id": "fatal-thursday",
   "metadata": {},
   "outputs": [],
   "source": [
    "max_len = 16\n",
    "tag2idx = {t: i for i, t in enumerate(tags)}"
   ]
  },
  {
   "cell_type": "code",
   "execution_count": 57,
   "id": "completed-score",
   "metadata": {},
   "outputs": [],
   "source": [
    "X_test = [[w[0] for w in s] for s in sentences]"
   ]
  },
  {
   "cell_type": "code",
   "execution_count": 58,
   "id": "foreign-allen",
   "metadata": {},
   "outputs": [],
   "source": [
    "new_X = []\n",
    "for seq in X_test:\n",
    "    new_seq = []\n",
    "    for i in range(max_len):\n",
    "        try:\n",
    "            new_seq.append(seq[i])\n",
    "        except:\n",
    "            new_seq.append(\"__PAD__\")\n",
    "    new_X.append(new_seq)\n",
    "X_test = new_X"
   ]
  },
  {
   "cell_type": "code",
   "execution_count": 59,
   "id": "innovative-print",
   "metadata": {},
   "outputs": [
    {
     "data": {
      "text/plain": [
       "29"
      ]
     },
     "execution_count": 59,
     "metadata": {},
     "output_type": "execute_result"
    }
   ],
   "source": [
    "y_test = [[tag2idx[w[1]] for w in s] for s in sentences]\n",
    "y_test += y_test[0:8]\n",
    "len(y_test)"
   ]
  },
  {
   "cell_type": "code",
   "execution_count": 60,
   "id": "decreased-organizer",
   "metadata": {},
   "outputs": [],
   "source": [
    "from keras.preprocessing.sequence import pad_sequences\n",
    "y_test = pad_sequences(maxlen=max_len, sequences=y_test, padding=\"post\", value=tag2idx[\"O\"])"
   ]
  },
  {
   "cell_type": "code",
   "execution_count": 61,
   "id": "digital-train",
   "metadata": {},
   "outputs": [
    {
     "name": "stdout",
     "output_type": "stream",
     "text": [
      "21\n",
      "29\n"
     ]
    }
   ],
   "source": [
    "print(len(X_test))\n",
    "X_test += X_test[0:8]\n",
    "print(len(X_test))\n",
    "\n",
    "#making size = batch_size"
   ]
  },
  {
   "cell_type": "code",
   "execution_count": 62,
   "id": "legitimate-lobby",
   "metadata": {},
   "outputs": [],
   "source": [
    "embeds = elmo(batch_to_ids(X_test))"
   ]
  },
  {
   "cell_type": "code",
   "execution_count": 63,
   "id": "about-option",
   "metadata": {},
   "outputs": [],
   "source": [
    "embedding = embeds[\"elmo_representations\"]\n",
    "# embedding"
   ]
  },
  {
   "cell_type": "code",
   "execution_count": 64,
   "id": "hungarian-blink",
   "metadata": {},
   "outputs": [],
   "source": [
    "import torch\n",
    "import tensorflow as tf\n",
    "\n",
    "embedding1 = []\n",
    "for t in embedding:\n",
    "    np_tensor = t.detach().numpy()\n",
    "    embedding1 += [np_tensor.tolist()]\n",
    "\n",
    "embedding = embedding1"
   ]
  },
  {
   "cell_type": "code",
   "execution_count": 65,
   "id": "lovely-vancouver",
   "metadata": {},
   "outputs": [],
   "source": [
    "i = 0\n",
    "\n",
    "p = model.predict(np.array(embedding[0]))\n",
    "p = np.argmax(p, axis=-1)"
   ]
  },
  {
   "cell_type": "code",
   "execution_count": 66,
   "id": "married-samuel",
   "metadata": {},
   "outputs": [
    {
     "data": {
      "text/plain": [
       "(29, 16)"
      ]
     },
     "execution_count": 66,
     "metadata": {},
     "output_type": "execute_result"
    }
   ],
   "source": [
    "p.shape"
   ]
  },
  {
   "cell_type": "code",
   "execution_count": 67,
   "id": "faced-tampa",
   "metadata": {},
   "outputs": [
    {
     "data": {
      "text/plain": [
       "(29, 16)"
      ]
     },
     "execution_count": 67,
     "metadata": {},
     "output_type": "execute_result"
    }
   ],
   "source": [
    "y_test.shape"
   ]
  },
  {
   "cell_type": "code",
   "execution_count": 68,
   "id": "economic-board",
   "metadata": {},
   "outputs": [
    {
     "name": "stdout",
     "output_type": "stream",
     "text": [
      "Sentence  0\n",
      " आज (U-date) मौसम (O) कैसा (O) है (O)\n",
      "Sentence  1\n",
      " आज (U-date) ज्यादा (O) ठंड (U-weather_type) है (O) क्या (O)\n",
      "Sentence  2\n",
      " मनाली (U-location) में (O) कितनी (O) ठंडी (U-weather_type) है (O)\n",
      "Sentence  3\n",
      " कोटा (U-location) ठंडा (U-weather_type) है (O) क्या (O) दिल्ली (U-location) से (O)\n",
      "Sentence  4\n",
      " कोटा (U-location) में (O) ज्यादा (O) ठंडी (U-weather_type) है (O) क्या (O)\n",
      "Sentence  5\n",
      " पठानकोट (U-location) और (O) दिल्ली (U-location) में (O) कहा (O) ज्यादा (O) गर्मी (U-weather_type) होगी (O)\n",
      "Sentence  6\n",
      " दुनिया (U-location) की (O) सबसे (O) नमी (U-weather_type) वाली (O) जगह (O)\n",
      "Sentence  7\n",
      " बनारस (U-location) और (O) गाजीपुर (U-location) में (O) कहां (O) ज्यादा (O) गर्मी (U-weather_type) पड़ेगा (O)\n",
      "Sentence  8\n",
      " बनारस (U-location) और (O) गाजीपुर (U-location) में (O) कहां (O) ज्यादा (O) ठंड (U-weather_type) पड़ेगा (O)\n",
      "Sentence  9\n",
      " बनारस (U-location) और (O) गाजीपुर (U-location) में (O) कहाँ (O) ज्यादा (O) जाड़ा (O) पड़ेगा (O)\n",
      "Sentence  10\n",
      " इस (B-date) साल (L-date) जाड़ा (O) पड़ेगा (O) की (O) नहीं (O)\n",
      "Sentence  11\n",
      " क्या (O) हरिद्वार (U-location) में (O) बहुत (O) ठंड (U-weather_type) है (O) अभी (U-date)\n",
      "Sentence  12\n",
      " पठानकोट (U-location) और (O) दिल्ली (U-location) में (O) कहा (O) ज्यादा (O) गर्मी (U-weather_type) होगी (O)\n",
      "Sentence  13\n",
      " रेणुकूट (U-location) में (O) मौसम (O) कैसा (O) है (O)\n",
      "Sentence  14\n",
      " आज (U-date) इतनी (O) गर्मी (U-weather_type) क्यों (O) है (O)\n",
      "Sentence  15\n",
      " क्या (O) मुंबई (U-location) में (O) ठंडी (U-weather_type) है (O)\n",
      "Sentence  16\n",
      " क्या (O) पाली (U-location) में (O) सर्दी (U-weather_type) आ (O) गयी (O)\n",
      "Sentence  17\n",
      " क्या (O) आज (U-date) बारिश (U-weather_type) हो (O) सकती (O) है (O)\n",
      "Sentence  18\n",
      " किदर (U-location) सबसे (O) ज्यादा (O) बारिश (U-weather_type) होती (O) है (O)\n",
      "Sentence  19\n",
      " मुंबई (U-location) में (O) गर्मी (U-weather_type) ज्यादा (O) है (O) क्या (O) सूरत (U-location) से (O)\n",
      "Sentence  20\n",
      " मौसम (O) का (O) हाल (O) बताओ (O)\n",
      "Sentence  21\n",
      " आज (U-date) मौसम (O) कैसा (O) है (O)\n",
      "Sentence  22\n",
      " आज (U-date) ज्यादा (O) ठंड (U-weather_type) है (O) क्या (O)\n",
      "Sentence  23\n",
      " मनाली (U-location) में (O) कितनी (O) ठंडी (U-weather_type) है (O)\n",
      "Sentence  24\n",
      " कोटा (U-location) ठंडा (U-weather_type) है (O) क्या (O) दिल्ली (U-location) से (O)\n",
      "Sentence  25\n",
      " कोटा (U-location) में (O) ज्यादा (O) ठंडी (U-weather_type) है (O) क्या (O)\n",
      "Sentence  26\n",
      " पठानकोट (U-location) और (O) दिल्ली (U-location) में (O) कहा (O) ज्यादा (O) गर्मी (U-weather_type) होगी (O)\n",
      "Sentence  27\n",
      " दुनिया (U-location) की (O) सबसे (O) नमी (U-weather_type) वाली (O) जगह (O)\n",
      "Sentence  28\n",
      " बनारस (U-location) और (O) गाजीपुर (U-location) में (O) कहां (O) ज्यादा (O) गर्मी (U-weather_type) पड़ेगा (O)\n"
     ]
    }
   ],
   "source": [
    "for X_te1, y_te1,p1 in zip(embedding[0],y_test.tolist(),p):\n",
    "    for i,e in enumerate(embedding[0]):\n",
    "        if e==X_te1:\n",
    "            print(\"Sentence \", i)\n",
    "            sentence = \"\"\n",
    "#             c+=1\n",
    "            for w, true, pred in zip(X_test[i], y_te1, p1):\n",
    "                if w != \"__PAD__\":\n",
    "                    sentence += \" {} ({})\".format(w,tags[pred])\n",
    "#                 if w != \"__PAD__\" and tags[pred] == tags[true[0]]:\n",
    "#                     print(\"{} : {} ({})\".format(w,tags[pred], tags[true[0]]))\n",
    "            print(sentence)"
   ]
  },
  {
   "cell_type": "code",
   "execution_count": 69,
   "id": "twenty-planning",
   "metadata": {},
   "outputs": [
    {
     "name": "stdout",
     "output_type": "stream",
     "text": [
      "              precision    recall  f1-score   support\n",
      "\n",
      "           0       1.00      1.00      1.00         1\n",
      "           1       0.90      1.00      0.95        28\n",
      "           2       1.00      1.00      1.00         7\n",
      "           4       1.00      0.92      0.96        25\n",
      "           5       1.00      0.99      0.99       402\n",
      "           7       1.00      1.00      1.00         1\n",
      "\n",
      "    accuracy                           0.99       464\n",
      "   macro avg       0.98      0.99      0.98       464\n",
      "weighted avg       0.99      0.99      0.99       464\n",
      "\n"
     ]
    }
   ],
   "source": [
    "from sklearn.metrics import classification_report, f1_score, roc_auc_score\n",
    "from sklearn import metrics\n",
    "\n",
    "print(metrics.classification_report(y_test.flatten(), p.flatten()))"
   ]
  },
  {
   "cell_type": "code",
   "execution_count": 70,
   "id": "arabic-breast",
   "metadata": {},
   "outputs": [],
   "source": [
    "i = 0\n",
    "p = model.predict(np.array(X_te).reshape(29,16,1024))\n",
    "p = np.argmax(p, axis=-1)"
   ]
  },
  {
   "cell_type": "code",
   "execution_count": 71,
   "id": "armed-defensive",
   "metadata": {},
   "outputs": [
    {
     "name": "stdout",
     "output_type": "stream",
     "text": [
      "              precision    recall  f1-score   support\n",
      "\n",
      "           0       1.00      1.00      1.00         2\n",
      "           1       1.00      1.00      1.00        23\n",
      "           2       0.78      1.00      0.88        14\n",
      "           4       0.95      0.91      0.93        22\n",
      "           5       0.99      0.99      0.99       401\n",
      "           7       1.00      1.00      1.00         2\n",
      "\n",
      "    accuracy                           0.98       464\n",
      "   macro avg       0.95      0.98      0.97       464\n",
      "weighted avg       0.99      0.98      0.99       464\n",
      "\n"
     ]
    }
   ],
   "source": [
    "print(metrics.classification_report(y_te.flatten(), p.flatten()))"
   ]
  },
  {
   "cell_type": "code",
   "execution_count": 72,
   "id": "reserved-occurrence",
   "metadata": {},
   "outputs": [],
   "source": [
    "i = 0\n",
    "p = model.predict(np.array(X_tr).reshape(174,16,1024))\n",
    "p = np.argmax(p, axis=-1)"
   ]
  },
  {
   "cell_type": "code",
   "execution_count": 73,
   "id": "reported-brazil",
   "metadata": {},
   "outputs": [
    {
     "name": "stdout",
     "output_type": "stream",
     "text": [
      "              precision    recall  f1-score   support\n",
      "\n",
      "           0       0.93      0.96      0.94        26\n",
      "           1       0.97      0.99      0.98       140\n",
      "           2       0.94      0.99      0.96        75\n",
      "           3       0.00      0.00      0.00         1\n",
      "           4       0.98      0.97      0.97       123\n",
      "           5       1.00      1.00      1.00      2390\n",
      "           6       0.00      0.00      0.00         1\n",
      "           7       0.93      1.00      0.96        26\n",
      "           8       0.00      0.00      0.00         1\n",
      "           9       0.00      0.00      0.00         1\n",
      "\n",
      "    accuracy                           0.99      2784\n",
      "   macro avg       0.57      0.59      0.58      2784\n",
      "weighted avg       0.99      0.99      0.99      2784\n",
      "\n"
     ]
    },
    {
     "name": "stderr",
     "output_type": "stream",
     "text": [
      "D:\\Sarika\\NER\\venv\\lib\\site-packages\\sklearn\\metrics\\_classification.py:1245: UndefinedMetricWarning: Precision and F-score are ill-defined and being set to 0.0 in labels with no predicted samples. Use `zero_division` parameter to control this behavior.\n",
      "  _warn_prf(average, modifier, msg_start, len(result))\n",
      "D:\\Sarika\\NER\\venv\\lib\\site-packages\\sklearn\\metrics\\_classification.py:1245: UndefinedMetricWarning: Precision and F-score are ill-defined and being set to 0.0 in labels with no predicted samples. Use `zero_division` parameter to control this behavior.\n",
      "  _warn_prf(average, modifier, msg_start, len(result))\n",
      "D:\\Sarika\\NER\\venv\\lib\\site-packages\\sklearn\\metrics\\_classification.py:1245: UndefinedMetricWarning: Precision and F-score are ill-defined and being set to 0.0 in labels with no predicted samples. Use `zero_division` parameter to control this behavior.\n",
      "  _warn_prf(average, modifier, msg_start, len(result))\n"
     ]
    }
   ],
   "source": [
    "print(metrics.classification_report(y_tr.flatten(), p.flatten()))"
   ]
  },
  {
   "cell_type": "markdown",
   "id": "emerging-extreme",
   "metadata": {},
   "source": [
    "**Saving model**"
   ]
  },
  {
   "cell_type": "code",
   "execution_count": 76,
   "id": "modular-halifax",
   "metadata": {},
   "outputs": [],
   "source": [
    "model_json = model.to_json()\n",
    "with open(\"model2.json\", \"w\") as json_file:\n",
    "    json_file.write(model_json)\n",
    "# serialize weights to HDF5\n",
    "model.save_weights(\"model2.h5\")"
   ]
  },
  {
   "cell_type": "code",
   "execution_count": null,
   "id": "developing-skating",
   "metadata": {},
   "outputs": [],
   "source": []
  }
 ],
 "metadata": {
  "kernelspec": {
   "display_name": "venv",
   "language": "python",
   "name": "venv"
  },
  "language_info": {
   "codemirror_mode": {
    "name": "ipython",
    "version": 3
   },
   "file_extension": ".py",
   "mimetype": "text/x-python",
   "name": "python",
   "nbconvert_exporter": "python",
   "pygments_lexer": "ipython3",
   "version": "3.8.8"
  }
 },
 "nbformat": 4,
 "nbformat_minor": 5
}
