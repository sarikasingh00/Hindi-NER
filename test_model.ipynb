{
 "cells": [
  {
   "cell_type": "markdown",
   "id": "lightweight-examination",
   "metadata": {},
   "source": [
    "# Testing Saved Model from elmo_ner_hid512.ipynb"
   ]
  },
  {
   "cell_type": "markdown",
   "id": "spectacular-jonathan",
   "metadata": {},
   "source": [
    "**Loading necessary libraries**"
   ]
  },
  {
   "cell_type": "code",
   "execution_count": 1,
   "id": "relevant-destination",
   "metadata": {},
   "outputs": [],
   "source": [
    "from keras.models import load_model, model_from_json\n",
    "import pandas as pd\n",
    "import numpy as np\n",
    "import os\n",
    "import re"
   ]
  },
  {
   "cell_type": "markdown",
   "id": "owned-malpractice",
   "metadata": {},
   "source": [
    "**Loading saved model**"
   ]
  },
  {
   "cell_type": "code",
   "execution_count": 2,
   "id": "attached-automation",
   "metadata": {},
   "outputs": [],
   "source": [
    "# model = load_model('ner_elmo_bilstm.h5')\n",
    "# model.load_weights('ner_elmo_bilstm_weights.h5')\n",
    "json_file = open('model2.json', 'r')\n",
    "loaded_model_json = json_file.read()\n",
    "json_file.close()\n",
    "model = model_from_json(loaded_model_json)\n",
    "# load weights into new model\n",
    "model.load_weights(\"model2.h5\")"
   ]
  },
  {
   "cell_type": "markdown",
   "id": "suited-cholesterol",
   "metadata": {},
   "source": [
    "**Loading AllenNLP Elmo module to get pre-trained embeddings**"
   ]
  },
  {
   "cell_type": "code",
   "execution_count": 3,
   "id": "respected-stupid",
   "metadata": {},
   "outputs": [],
   "source": [
    "from allennlp.modules.elmo import Elmo,batch_to_ids"
   ]
  },
  {
   "cell_type": "code",
   "execution_count": 4,
   "id": "historical-senior",
   "metadata": {},
   "outputs": [],
   "source": [
    "datadir = os.path.join('hi', 'elmo')\n",
    "options_file = os.path.join(datadir, 'hi-d512-options.json')\n",
    "weight_file = os.path.join(datadir, 'hi-d512-elmo.hdf5')\n",
    "\n",
    "elmo = Elmo(options_file,weight_file,1,dropout=0)"
   ]
  },
  {
   "cell_type": "markdown",
   "id": "trying-simon",
   "metadata": {},
   "source": [
    "**Custom sentence to predict tags on -**"
   ]
  },
  {
   "cell_type": "code",
   "execution_count": 5,
   "id": "fresh-spirituality",
   "metadata": {},
   "outputs": [],
   "source": [
    "# sentence = \"उत्तराखंड की राजधानी देहरादून में फरवरी की दुपहरी पिछले दस साल में सबसे गर्म रही\".split()\n",
    "# sentence = \"अरे सारथी जम्मू कैसा मौसम है\".split()\n",
    "# sentence = \"मुझे बताओ हांगकांग में तापमान क्या है\".split()\n",
    "# sentence =  \"मध्य प्रदेश के खरगोन जिले में इस गुरुवार दोपहर तेज बारिश\".split()\n",
    "# sentence = \"लक्ष्मण और मेघनाद के मध्य घोर युद्ध हुआ\".split()\n",
    "sentence = \"खेत के मध्य मत जाओ\".split()"
   ]
  },
  {
   "cell_type": "code",
   "execution_count": 6,
   "id": "addressed-jimmy",
   "metadata": {},
   "outputs": [
    {
     "data": {
      "text/plain": [
       "['खेत', 'के', 'मध्य', 'मत', 'जाओ']"
      ]
     },
     "execution_count": 6,
     "metadata": {},
     "output_type": "execute_result"
    }
   ],
   "source": [
    "X = [w for w in sentence]\n",
    "X"
   ]
  },
  {
   "cell_type": "markdown",
   "id": "incorporated-giving",
   "metadata": {},
   "source": [
    "**Padding the sentences to length = max_len**"
   ]
  },
  {
   "cell_type": "code",
   "execution_count": 7,
   "id": "adaptive-brazil",
   "metadata": {},
   "outputs": [],
   "source": [
    "max_len = 16"
   ]
  },
  {
   "cell_type": "code",
   "execution_count": 8,
   "id": "exterior-wallace",
   "metadata": {},
   "outputs": [],
   "source": [
    "if len(X)<max_len:\n",
    "    while len(X)<max_len:\n",
    "        X += [\"__PAD__\"]\n",
    "X = [X]"
   ]
  },
  {
   "cell_type": "code",
   "execution_count": 9,
   "id": "mounted-effect",
   "metadata": {},
   "outputs": [],
   "source": [
    "embeds = elmo(batch_to_ids(X))\n",
    "embedding = embeds[\"elmo_representations\"]"
   ]
  },
  {
   "cell_type": "markdown",
   "id": "material-pittsburgh",
   "metadata": {},
   "source": [
    "**Converting torch tensor embeddings to embedding matrix (list of lists)**"
   ]
  },
  {
   "cell_type": "code",
   "execution_count": 10,
   "id": "included-moisture",
   "metadata": {},
   "outputs": [],
   "source": [
    "import torch\n",
    "import tensorflow as tf\n",
    "\n",
    "embedding1 = []\n",
    "for t in embedding:\n",
    "    np_tensor = t.detach().numpy()\n",
    "    embedding1 += [np_tensor.tolist()]\n",
    "\n",
    "embedding = embedding1"
   ]
  },
  {
   "cell_type": "markdown",
   "id": "british-purchase",
   "metadata": {},
   "source": [
    "**Using model to predict tags on sentences**"
   ]
  },
  {
   "cell_type": "code",
   "execution_count": 11,
   "id": "separated-longer",
   "metadata": {},
   "outputs": [],
   "source": [
    "p = model.predict(np.array(embedding).reshape(1,16,1024))\n",
    "p = np.argmax(p, axis=-1)"
   ]
  },
  {
   "cell_type": "code",
   "execution_count": 12,
   "id": "through-relevance",
   "metadata": {},
   "outputs": [
    {
     "data": {
      "text/plain": [
       "array([[1, 5, 5, 5, 5, 5, 5, 5, 5, 5, 5, 5, 5, 5, 5, 5]], dtype=int64)"
      ]
     },
     "execution_count": 12,
     "metadata": {},
     "output_type": "execute_result"
    }
   ],
   "source": [
    "p"
   ]
  },
  {
   "cell_type": "code",
   "execution_count": 13,
   "id": "motivated-illness",
   "metadata": {},
   "outputs": [],
   "source": [
    "# df = pd.DataFrame(columns=['Sentence #','Word','Tag'])"
   ]
  },
  {
   "cell_type": "code",
   "execution_count": 14,
   "id": "abstract-winning",
   "metadata": {},
   "outputs": [],
   "source": [
    "# data_dir = r'Data/'"
   ]
  },
  {
   "cell_type": "code",
   "execution_count": 15,
   "id": "broke-gather",
   "metadata": {},
   "outputs": [],
   "source": [
    "# i=1\n",
    "# data = list()\n",
    "# with open(data_dir+'nertrnweather.txt',encoding='utf-8') as f:\n",
    "#     for line in f.readlines():\n",
    "#         if line=='\\n':\n",
    "#             i+=1\n",
    "#         else:\n",
    "#             data=line.split(\" \")\n",
    "#             df=df.append({\"Sentence #\":f\"Sentence {i}\",\"Word\":data[0],\"Tag\":re.sub(\"\\n\",\"\",data[1])},ignore_index=True)\n",
    "# df"
   ]
  },
  {
   "cell_type": "code",
   "execution_count": 16,
   "id": "arctic-proof",
   "metadata": {},
   "outputs": [],
   "source": [
    "# tags = list(set(df[\"Tag\"].values))\n",
    "# n_tags = len(tags); n_tags\n",
    "tags = ['B-date',\n",
    " 'U-location',\n",
    " 'U-date',\n",
    " 'L-location',\n",
    " 'U-weather_type',\n",
    " 'O',\n",
    " 'B-location',\n",
    " 'L-date',\n",
    " 'L-weather_type',\n",
    " 'B-weather_type']"
   ]
  },
  {
   "cell_type": "code",
   "execution_count": 17,
   "id": "breathing-absolute",
   "metadata": {},
   "outputs": [
    {
     "data": {
      "text/plain": [
       "[[1, 5, 5, 5, 5, 5, 5, 5, 5, 5, 5, 5, 5, 5, 5, 5]]"
      ]
     },
     "execution_count": 17,
     "metadata": {},
     "output_type": "execute_result"
    }
   ],
   "source": [
    "p.tolist()"
   ]
  },
  {
   "cell_type": "markdown",
   "id": "personalized-september",
   "metadata": {},
   "source": [
    "**Printing results from model**"
   ]
  },
  {
   "cell_type": "code",
   "execution_count": 18,
   "id": "veterinary-connecticut",
   "metadata": {},
   "outputs": [
    {
     "name": "stdout",
     "output_type": "stream",
     "text": [
      "खेत (U-location) के (O) मध्य (O) मत (O) जाओ (O) \n"
     ]
    }
   ],
   "source": [
    "sentence = \"\"\n",
    "for w,pred in zip(X[0],p.tolist()[0]):\n",
    "    if w!= '__PAD__':\n",
    "        sentence += \"{} ({}) \".format(w,tags[pred])\n",
    "#         print(w,tags[pred])\n",
    "print(sentence)"
   ]
  },
  {
   "cell_type": "code",
   "execution_count": null,
   "id": "spatial-dance",
   "metadata": {},
   "outputs": [],
   "source": []
  }
 ],
 "metadata": {
  "kernelspec": {
   "display_name": "venv",
   "language": "python",
   "name": "venv"
  },
  "language_info": {
   "codemirror_mode": {
    "name": "ipython",
    "version": 3
   },
   "file_extension": ".py",
   "mimetype": "text/x-python",
   "name": "python",
   "nbconvert_exporter": "python",
   "pygments_lexer": "ipython3",
   "version": "3.8.8"
  }
 },
 "nbformat": 4,
 "nbformat_minor": 5
}
