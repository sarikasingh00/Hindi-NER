{
 "cells": [
  {
   "cell_type": "code",
   "execution_count": 37,
   "id": "relevant-destination",
   "metadata": {},
   "outputs": [],
   "source": [
    "from keras.models import load_model\n",
    "import pandas as pd\n",
    "import numpy as np\n",
    "import os\n",
    "import re"
   ]
  },
  {
   "cell_type": "code",
   "execution_count": 38,
   "id": "attached-automation",
   "metadata": {},
   "outputs": [],
   "source": [
    "model = load_model('ner_elmo_bilstm.h5')"
   ]
  },
  {
   "cell_type": "code",
   "execution_count": 39,
   "id": "respected-stupid",
   "metadata": {},
   "outputs": [],
   "source": [
    "from allennlp.modules.elmo import Elmo,batch_to_ids"
   ]
  },
  {
   "cell_type": "code",
   "execution_count": 40,
   "id": "fresh-spirituality",
   "metadata": {},
   "outputs": [],
   "source": [
    "# sentence = \"उत्तराखंड की राजधानी देहरादून में फरवरी की दुपहरी पिछले दस साल में सबसे गर्म रही\".split()\n",
    "# sentence = \"अरे सारथी जम्मू कैसा मौसम है\".split()\n",
    "sentence = \"मुझे बताओ हांगकांग में तापमान क्या है\".split()"
   ]
  },
  {
   "cell_type": "code",
   "execution_count": 41,
   "id": "addressed-jimmy",
   "metadata": {},
   "outputs": [
    {
     "data": {
      "text/plain": [
       "['मुझे', 'बताओ', 'हांगकांग', 'में', 'तापमान', 'क्या', 'है']"
      ]
     },
     "execution_count": 41,
     "metadata": {},
     "output_type": "execute_result"
    }
   ],
   "source": [
    "X = [w for w in sentence]\n",
    "X"
   ]
  },
  {
   "cell_type": "code",
   "execution_count": 42,
   "id": "adaptive-brazil",
   "metadata": {},
   "outputs": [],
   "source": [
    "max_len = 16"
   ]
  },
  {
   "cell_type": "code",
   "execution_count": 43,
   "id": "exterior-wallace",
   "metadata": {},
   "outputs": [],
   "source": [
    "if len(X)<max_len:\n",
    "    while len(X)<max_len:\n",
    "        X += [\"__PAD__\"]\n",
    "X = [X]"
   ]
  },
  {
   "cell_type": "code",
   "execution_count": 44,
   "id": "historical-senior",
   "metadata": {},
   "outputs": [],
   "source": [
    "datadir = os.path.join('hi', 'elmo')\n",
    "options_file = os.path.join(datadir, 'hi-d512-options.json')\n",
    "weight_file = os.path.join(datadir, 'hi-d512-elmo.hdf5')\n",
    "\n",
    "elmo = Elmo(options_file,weight_file,1,dropout=0)"
   ]
  },
  {
   "cell_type": "code",
   "execution_count": 45,
   "id": "mounted-effect",
   "metadata": {},
   "outputs": [],
   "source": [
    "embeds = elmo(batch_to_ids(X))\n",
    "embedding = embeds[\"elmo_representations\"]"
   ]
  },
  {
   "cell_type": "code",
   "execution_count": null,
   "id": "patient-blogger",
   "metadata": {},
   "outputs": [],
   "source": []
  },
  {
   "cell_type": "code",
   "execution_count": 46,
   "id": "included-moisture",
   "metadata": {},
   "outputs": [],
   "source": [
    "import torch\n",
    "import tensorflow as tf\n",
    "\n",
    "embedding1 = []\n",
    "for t in embedding:\n",
    "    np_tensor = t.detach().numpy()\n",
    "    embedding1 += [np_tensor.tolist()]\n",
    "\n",
    "embedding = embedding1"
   ]
  },
  {
   "cell_type": "code",
   "execution_count": 47,
   "id": "divine-karma",
   "metadata": {},
   "outputs": [],
   "source": [
    "# embedding"
   ]
  },
  {
   "cell_type": "code",
   "execution_count": 48,
   "id": "separated-longer",
   "metadata": {},
   "outputs": [],
   "source": [
    "p = model.predict(np.array(embedding).reshape(1,16,1024))\n",
    "p = np.argmax(p, axis=-1)"
   ]
  },
  {
   "cell_type": "code",
   "execution_count": 49,
   "id": "through-relevance",
   "metadata": {},
   "outputs": [
    {
     "data": {
      "text/plain": [
       "array([[6, 6, 9, 6, 6, 6, 6, 6, 6, 6, 6, 6, 6, 6, 6, 6]], dtype=int64)"
      ]
     },
     "execution_count": 49,
     "metadata": {},
     "output_type": "execute_result"
    }
   ],
   "source": [
    "p"
   ]
  },
  {
   "cell_type": "code",
   "execution_count": 50,
   "id": "motivated-illness",
   "metadata": {},
   "outputs": [],
   "source": [
    "df = pd.DataFrame(columns=['Sentence #','Word','Tag'])"
   ]
  },
  {
   "cell_type": "code",
   "execution_count": 51,
   "id": "abstract-winning",
   "metadata": {},
   "outputs": [],
   "source": [
    "data_dir = r'Data/'"
   ]
  },
  {
   "cell_type": "code",
   "execution_count": 52,
   "id": "broke-gather",
   "metadata": {},
   "outputs": [
    {
     "data": {
      "text/html": [
       "<div>\n",
       "<style scoped>\n",
       "    .dataframe tbody tr th:only-of-type {\n",
       "        vertical-align: middle;\n",
       "    }\n",
       "\n",
       "    .dataframe tbody tr th {\n",
       "        vertical-align: top;\n",
       "    }\n",
       "\n",
       "    .dataframe thead th {\n",
       "        text-align: right;\n",
       "    }\n",
       "</style>\n",
       "<table border=\"1\" class=\"dataframe\">\n",
       "  <thead>\n",
       "    <tr style=\"text-align: right;\">\n",
       "      <th></th>\n",
       "      <th>Sentence #</th>\n",
       "      <th>Word</th>\n",
       "      <th>Tag</th>\n",
       "    </tr>\n",
       "  </thead>\n",
       "  <tbody>\n",
       "    <tr>\n",
       "      <th>0</th>\n",
       "      <td>Sentence 1</td>\n",
       "      <td>अरे</td>\n",
       "      <td>O</td>\n",
       "    </tr>\n",
       "    <tr>\n",
       "      <th>1</th>\n",
       "      <td>Sentence 1</td>\n",
       "      <td>सारथी</td>\n",
       "      <td>O</td>\n",
       "    </tr>\n",
       "    <tr>\n",
       "      <th>2</th>\n",
       "      <td>Sentence 1</td>\n",
       "      <td>जम्मू</td>\n",
       "      <td>U-location</td>\n",
       "    </tr>\n",
       "    <tr>\n",
       "      <th>3</th>\n",
       "      <td>Sentence 1</td>\n",
       "      <td>कैसा</td>\n",
       "      <td>O</td>\n",
       "    </tr>\n",
       "    <tr>\n",
       "      <th>4</th>\n",
       "      <td>Sentence 1</td>\n",
       "      <td>मौसम</td>\n",
       "      <td>O</td>\n",
       "    </tr>\n",
       "    <tr>\n",
       "      <th>...</th>\n",
       "      <td>...</td>\n",
       "      <td>...</td>\n",
       "      <td>...</td>\n",
       "    </tr>\n",
       "    <tr>\n",
       "      <th>1403</th>\n",
       "      <td>Sentence 203</td>\n",
       "      <td>की</td>\n",
       "      <td>O</td>\n",
       "    </tr>\n",
       "    <tr>\n",
       "      <th>1404</th>\n",
       "      <td>Sentence 203</td>\n",
       "      <td>स्थिति</td>\n",
       "      <td>O</td>\n",
       "    </tr>\n",
       "    <tr>\n",
       "      <th>1405</th>\n",
       "      <td>Sentence 203</td>\n",
       "      <td>क्या</td>\n",
       "      <td>O</td>\n",
       "    </tr>\n",
       "    <tr>\n",
       "      <th>1406</th>\n",
       "      <td>Sentence 203</td>\n",
       "      <td>है</td>\n",
       "      <td>O</td>\n",
       "    </tr>\n",
       "    <tr>\n",
       "      <th>1407</th>\n",
       "      <td>Sentence 203</td>\n",
       "      <td>?</td>\n",
       "      <td>O</td>\n",
       "    </tr>\n",
       "  </tbody>\n",
       "</table>\n",
       "<p>1408 rows × 3 columns</p>\n",
       "</div>"
      ],
      "text/plain": [
       "        Sentence #    Word         Tag\n",
       "0       Sentence 1     अरे           O\n",
       "1       Sentence 1   सारथी           O\n",
       "2       Sentence 1   जम्मू  U-location\n",
       "3       Sentence 1    कैसा           O\n",
       "4       Sentence 1    मौसम           O\n",
       "...            ...     ...         ...\n",
       "1403  Sentence 203      की           O\n",
       "1404  Sentence 203  स्थिति           O\n",
       "1405  Sentence 203    क्या           O\n",
       "1406  Sentence 203      है           O\n",
       "1407  Sentence 203       ?           O\n",
       "\n",
       "[1408 rows x 3 columns]"
      ]
     },
     "execution_count": 52,
     "metadata": {},
     "output_type": "execute_result"
    }
   ],
   "source": [
    "i=1\n",
    "data = list()\n",
    "with open(data_dir+'nertrnweather.txt',encoding='utf-8') as f:\n",
    "    for line in f.readlines():\n",
    "        if line=='\\n':\n",
    "            i+=1\n",
    "        else:\n",
    "            data=line.split(\" \")\n",
    "            df=df.append({\"Sentence #\":f\"Sentence {i}\",\"Word\":data[0],\"Tag\":re.sub(\"\\n\",\"\",data[1])},ignore_index=True)\n",
    "df"
   ]
  },
  {
   "cell_type": "code",
   "execution_count": 53,
   "id": "arctic-proof",
   "metadata": {},
   "outputs": [
    {
     "data": {
      "text/plain": [
       "10"
      ]
     },
     "execution_count": 53,
     "metadata": {},
     "output_type": "execute_result"
    }
   ],
   "source": [
    "tags = list(set(df[\"Tag\"].values))\n",
    "n_tags = len(tags); n_tags"
   ]
  },
  {
   "cell_type": "code",
   "execution_count": 54,
   "id": "breathing-absolute",
   "metadata": {},
   "outputs": [
    {
     "data": {
      "text/plain": [
       "[[6, 6, 9, 6, 6, 6, 6, 6, 6, 6, 6, 6, 6, 6, 6, 6]]"
      ]
     },
     "execution_count": 54,
     "metadata": {},
     "output_type": "execute_result"
    }
   ],
   "source": [
    "p.tolist()"
   ]
  },
  {
   "cell_type": "code",
   "execution_count": 57,
   "id": "veterinary-connecticut",
   "metadata": {},
   "outputs": [
    {
     "name": "stdout",
     "output_type": "stream",
     "text": [
      "मुझे B-date\n",
      "बताओ B-date\n",
      "हांगकांग L-date\n",
      "में B-date\n",
      "तापमान B-date\n",
      "क्या B-date\n",
      "है B-date\n",
      "__PAD__ B-date\n",
      "__PAD__ B-date\n",
      "__PAD__ B-date\n",
      "__PAD__ B-date\n",
      "__PAD__ B-date\n",
      "__PAD__ B-date\n",
      "__PAD__ B-date\n",
      "__PAD__ B-date\n",
      "__PAD__ B-date\n"
     ]
    }
   ],
   "source": [
    "for w,pred in zip(X[0],p.tolist()[0]):\n",
    "        print(w,tags[pred])"
   ]
  },
  {
   "cell_type": "code",
   "execution_count": 56,
   "id": "underlying-approval",
   "metadata": {},
   "outputs": [
    {
     "data": {
      "text/plain": [
       "['U-weather_type',\n",
       " 'O',\n",
       " 'U-date',\n",
       " 'L-weather_type',\n",
       " 'B-location',\n",
       " 'L-location',\n",
       " 'B-date',\n",
       " 'U-location',\n",
       " 'B-weather_type',\n",
       " 'L-date']"
      ]
     },
     "execution_count": 56,
     "metadata": {},
     "output_type": "execute_result"
    }
   ],
   "source": [
    "tags"
   ]
  },
  {
   "cell_type": "code",
   "execution_count": null,
   "id": "weekly-temperature",
   "metadata": {},
   "outputs": [],
   "source": []
  },
  {
   "cell_type": "code",
   "execution_count": null,
   "id": "conscious-bulletin",
   "metadata": {},
   "outputs": [],
   "source": []
  }
 ],
 "metadata": {
  "kernelspec": {
   "display_name": "venv",
   "language": "python",
   "name": "venv"
  },
  "language_info": {
   "codemirror_mode": {
    "name": "ipython",
    "version": 3
   },
   "file_extension": ".py",
   "mimetype": "text/x-python",
   "name": "python",
   "nbconvert_exporter": "python",
   "pygments_lexer": "ipython3",
   "version": "3.8.8"
  }
 },
 "nbformat": 4,
 "nbformat_minor": 5
}
